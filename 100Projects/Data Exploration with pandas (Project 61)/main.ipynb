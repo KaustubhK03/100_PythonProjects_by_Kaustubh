{
 "cells": [
  {
   "cell_type": "code",
   "execution_count": null,
   "id": "initial_id",
   "metadata": {
    "collapsed": true
   },
   "outputs": [],
   "source": [
    "import pandas as pd\n",
    "df = pd.read_csv(\"salaries_by_college_major.csv\")\n",
    "df.head()"
   ]
  },
  {
   "cell_type": "code",
   "execution_count": 1,
   "outputs": [
    {
     "data": {
      "text/plain": "     Undergraduate Major  Starting Median Salary  Mid-Career Median Salary  \\\n0             Accounting                 46000.0                   77100.0   \n1  Aerospace Engineering                 57700.0                  101000.0   \n2            Agriculture                 42600.0                   71900.0   \n3           Anthropology                 36800.0                   61500.0   \n4           Architecture                 41600.0                   76800.0   \n\n   Mid-Career 10th Percentile Salary  Mid-Career 90th Percentile Salary  \\\n0                            42200.0                           152000.0   \n1                            64300.0                           161000.0   \n2                            36300.0                           150000.0   \n3                            33800.0                           138000.0   \n4                            50600.0                           136000.0   \n\n      Group  \n0  Business  \n1      STEM  \n2  Business  \n3      HASS  \n4  Business  ",
      "text/html": "<div>\n<style scoped>\n    .dataframe tbody tr th:only-of-type {\n        vertical-align: middle;\n    }\n\n    .dataframe tbody tr th {\n        vertical-align: top;\n    }\n\n    .dataframe thead th {\n        text-align: right;\n    }\n</style>\n<table border=\"1\" class=\"dataframe\">\n  <thead>\n    <tr style=\"text-align: right;\">\n      <th></th>\n      <th>Undergraduate Major</th>\n      <th>Starting Median Salary</th>\n      <th>Mid-Career Median Salary</th>\n      <th>Mid-Career 10th Percentile Salary</th>\n      <th>Mid-Career 90th Percentile Salary</th>\n      <th>Group</th>\n    </tr>\n  </thead>\n  <tbody>\n    <tr>\n      <th>0</th>\n      <td>Accounting</td>\n      <td>46000.0</td>\n      <td>77100.0</td>\n      <td>42200.0</td>\n      <td>152000.0</td>\n      <td>Business</td>\n    </tr>\n    <tr>\n      <th>1</th>\n      <td>Aerospace Engineering</td>\n      <td>57700.0</td>\n      <td>101000.0</td>\n      <td>64300.0</td>\n      <td>161000.0</td>\n      <td>STEM</td>\n    </tr>\n    <tr>\n      <th>2</th>\n      <td>Agriculture</td>\n      <td>42600.0</td>\n      <td>71900.0</td>\n      <td>36300.0</td>\n      <td>150000.0</td>\n      <td>Business</td>\n    </tr>\n    <tr>\n      <th>3</th>\n      <td>Anthropology</td>\n      <td>36800.0</td>\n      <td>61500.0</td>\n      <td>33800.0</td>\n      <td>138000.0</td>\n      <td>HASS</td>\n    </tr>\n    <tr>\n      <th>4</th>\n      <td>Architecture</td>\n      <td>41600.0</td>\n      <td>76800.0</td>\n      <td>50600.0</td>\n      <td>136000.0</td>\n      <td>Business</td>\n    </tr>\n  </tbody>\n</table>\n</div>"
     },
     "execution_count": 1,
     "metadata": {},
     "output_type": "execute_result"
    }
   ],
   "source": [
    "import pandas as pd\n",
    "df = pd.read_csv(\"salaries_by_college_major.csv\")\n",
    "df.head()"
   ],
   "metadata": {
    "collapsed": false,
    "ExecuteTime": {
     "end_time": "2023-08-08T04:49:35.175145Z",
     "start_time": "2023-08-08T04:49:34.752213Z"
    }
   },
   "id": "ab133bfbaac133dd"
  },
  {
   "cell_type": "code",
   "execution_count": 2,
   "outputs": [
    {
     "data": {
      "text/plain": "      Undergraduate Major  Starting Median Salary  Mid-Career Median Salary  \\\n46             Psychology                 35900.0                   60400.0   \n47               Religion                 34100.0                   52000.0   \n48              Sociology                 36500.0                   58200.0   \n49                Spanish                 34000.0                   53100.0   \n50  Source: PayScale Inc.                     NaN                       NaN   \n\n    Mid-Career 10th Percentile Salary  Mid-Career 90th Percentile Salary Group  \n46                            31600.0                           127000.0  HASS  \n47                            29700.0                            96400.0  HASS  \n48                            30700.0                           118000.0  HASS  \n49                            31000.0                            96400.0  HASS  \n50                                NaN                                NaN   NaN  ",
      "text/html": "<div>\n<style scoped>\n    .dataframe tbody tr th:only-of-type {\n        vertical-align: middle;\n    }\n\n    .dataframe tbody tr th {\n        vertical-align: top;\n    }\n\n    .dataframe thead th {\n        text-align: right;\n    }\n</style>\n<table border=\"1\" class=\"dataframe\">\n  <thead>\n    <tr style=\"text-align: right;\">\n      <th></th>\n      <th>Undergraduate Major</th>\n      <th>Starting Median Salary</th>\n      <th>Mid-Career Median Salary</th>\n      <th>Mid-Career 10th Percentile Salary</th>\n      <th>Mid-Career 90th Percentile Salary</th>\n      <th>Group</th>\n    </tr>\n  </thead>\n  <tbody>\n    <tr>\n      <th>46</th>\n      <td>Psychology</td>\n      <td>35900.0</td>\n      <td>60400.0</td>\n      <td>31600.0</td>\n      <td>127000.0</td>\n      <td>HASS</td>\n    </tr>\n    <tr>\n      <th>47</th>\n      <td>Religion</td>\n      <td>34100.0</td>\n      <td>52000.0</td>\n      <td>29700.0</td>\n      <td>96400.0</td>\n      <td>HASS</td>\n    </tr>\n    <tr>\n      <th>48</th>\n      <td>Sociology</td>\n      <td>36500.0</td>\n      <td>58200.0</td>\n      <td>30700.0</td>\n      <td>118000.0</td>\n      <td>HASS</td>\n    </tr>\n    <tr>\n      <th>49</th>\n      <td>Spanish</td>\n      <td>34000.0</td>\n      <td>53100.0</td>\n      <td>31000.0</td>\n      <td>96400.0</td>\n      <td>HASS</td>\n    </tr>\n    <tr>\n      <th>50</th>\n      <td>Source: PayScale Inc.</td>\n      <td>NaN</td>\n      <td>NaN</td>\n      <td>NaN</td>\n      <td>NaN</td>\n      <td>NaN</td>\n    </tr>\n  </tbody>\n</table>\n</div>"
     },
     "execution_count": 2,
     "metadata": {},
     "output_type": "execute_result"
    }
   ],
   "source": [
    "df.tail()"
   ],
   "metadata": {
    "collapsed": false,
    "ExecuteTime": {
     "end_time": "2023-08-08T04:49:49.187437Z",
     "start_time": "2023-08-08T04:49:49.159817Z"
    }
   },
   "id": "9eaacf4fabfb79b8"
  },
  {
   "cell_type": "code",
   "execution_count": 3,
   "outputs": [],
   "source": [
    "clean_df = df.dropna()"
   ],
   "metadata": {
    "collapsed": false,
    "ExecuteTime": {
     "end_time": "2023-08-08T04:50:16.250156Z",
     "start_time": "2023-08-08T04:50:16.228750Z"
    }
   },
   "id": "231af922a09e14ae"
  },
  {
   "cell_type": "code",
   "execution_count": 4,
   "outputs": [
    {
     "name": "stdout",
     "output_type": "stream",
     "text": [
      "                     Undergraduate Major  Starting Median Salary  \\\n",
      "0                             Accounting                 46000.0   \n",
      "1                  Aerospace Engineering                 57700.0   \n",
      "2                            Agriculture                 42600.0   \n",
      "3                           Anthropology                 36800.0   \n",
      "4                           Architecture                 41600.0   \n",
      "5                            Art History                 35800.0   \n",
      "6                                Biology                 38800.0   \n",
      "7                    Business Management                 43000.0   \n",
      "8                   Chemical Engineering                 63200.0   \n",
      "9                              Chemistry                 42600.0   \n",
      "10                     Civil Engineering                 53900.0   \n",
      "11                        Communications                 38100.0   \n",
      "12                  Computer Engineering                 61400.0   \n",
      "13                      Computer Science                 55900.0   \n",
      "14                          Construction                 53700.0   \n",
      "15                      Criminal Justice                 35000.0   \n",
      "16                                 Drama                 35900.0   \n",
      "17                             Economics                 50100.0   \n",
      "18                             Education                 34900.0   \n",
      "19                Electrical Engineering                 60900.0   \n",
      "20                               English                 38000.0   \n",
      "21                                  Film                 37900.0   \n",
      "22                               Finance                 47900.0   \n",
      "23                              Forestry                 39100.0   \n",
      "24                             Geography                 41200.0   \n",
      "25                               Geology                 43500.0   \n",
      "26                        Graphic Design                 35700.0   \n",
      "27            Health Care Administration                 38800.0   \n",
      "28                               History                 39200.0   \n",
      "29                 Hospitality & Tourism                 37800.0   \n",
      "30                Industrial Engineering                 57700.0   \n",
      "31           Information Technology (IT)                 49100.0   \n",
      "32                       Interior Design                 36100.0   \n",
      "33               International Relations                 40900.0   \n",
      "34                            Journalism                 35600.0   \n",
      "35  Management Information Systems (MIS)                 49200.0   \n",
      "36                             Marketing                 40800.0   \n",
      "37                                  Math                 45400.0   \n",
      "38                Mechanical Engineering                 57900.0   \n",
      "39                                 Music                 35900.0   \n",
      "40                               Nursing                 54200.0   \n",
      "41                             Nutrition                 39900.0   \n",
      "42                            Philosophy                 39900.0   \n",
      "43                   Physician Assistant                 74300.0   \n",
      "44                               Physics                 50300.0   \n",
      "45                     Political Science                 40800.0   \n",
      "46                            Psychology                 35900.0   \n",
      "47                              Religion                 34100.0   \n",
      "48                             Sociology                 36500.0   \n",
      "49                               Spanish                 34000.0   \n",
      "\n",
      "    Mid-Career Median Salary  Mid-Career 10th Percentile Salary  \\\n",
      "0                    77100.0                            42200.0   \n",
      "1                   101000.0                            64300.0   \n",
      "2                    71900.0                            36300.0   \n",
      "3                    61500.0                            33800.0   \n",
      "4                    76800.0                            50600.0   \n",
      "5                    64900.0                            28800.0   \n",
      "6                    64800.0                            36900.0   \n",
      "7                    72100.0                            38800.0   \n",
      "8                   107000.0                            71900.0   \n",
      "9                    79900.0                            45300.0   \n",
      "10                   90500.0                            63400.0   \n",
      "11                   70000.0                            37500.0   \n",
      "12                  105000.0                            66100.0   \n",
      "13                   95500.0                            56000.0   \n",
      "14                   88900.0                            56300.0   \n",
      "15                   56300.0                            32200.0   \n",
      "16                   56900.0                            36700.0   \n",
      "17                   98600.0                            50600.0   \n",
      "18                   52000.0                            29300.0   \n",
      "19                  103000.0                            69300.0   \n",
      "20                   64700.0                            33400.0   \n",
      "21                   68500.0                            33900.0   \n",
      "22                   88300.0                            47200.0   \n",
      "23                   62600.0                            41000.0   \n",
      "24                   65500.0                            40000.0   \n",
      "25                   79500.0                            45000.0   \n",
      "26                   59800.0                            36000.0   \n",
      "27                   60600.0                            34600.0   \n",
      "28                   71000.0                            37000.0   \n",
      "29                   57500.0                            35500.0   \n",
      "30                   94700.0                            57100.0   \n",
      "31                   74800.0                            44500.0   \n",
      "32                   53200.0                            35700.0   \n",
      "33                   80900.0                            38200.0   \n",
      "34                   66700.0                            38400.0   \n",
      "35                   82300.0                            45300.0   \n",
      "36                   79600.0                            42100.0   \n",
      "37                   92400.0                            45200.0   \n",
      "38                   93600.0                            63700.0   \n",
      "39                   55000.0                            26700.0   \n",
      "40                   67000.0                            47600.0   \n",
      "41                   55300.0                            33900.0   \n",
      "42                   81200.0                            35500.0   \n",
      "43                   91700.0                            66400.0   \n",
      "44                   97300.0                            56000.0   \n",
      "45                   78200.0                            41200.0   \n",
      "46                   60400.0                            31600.0   \n",
      "47                   52000.0                            29700.0   \n",
      "48                   58200.0                            30700.0   \n",
      "49                   53100.0                            31000.0   \n",
      "\n",
      "    Mid-Career 90th Percentile Salary     Group  \n",
      "0                            152000.0  Business  \n",
      "1                            161000.0      STEM  \n",
      "2                            150000.0  Business  \n",
      "3                            138000.0      HASS  \n",
      "4                            136000.0  Business  \n",
      "5                            125000.0      HASS  \n",
      "6                            135000.0      STEM  \n",
      "7                            147000.0  Business  \n",
      "8                            194000.0      STEM  \n",
      "9                            148000.0      STEM  \n",
      "10                           148000.0      STEM  \n",
      "11                           143000.0      HASS  \n",
      "12                           162000.0      STEM  \n",
      "13                           154000.0      STEM  \n",
      "14                           171000.0  Business  \n",
      "15                           107000.0      HASS  \n",
      "16                           153000.0      HASS  \n",
      "17                           210000.0  Business  \n",
      "18                           102000.0      HASS  \n",
      "19                           168000.0      STEM  \n",
      "20                           133000.0      HASS  \n",
      "21                           136000.0      HASS  \n",
      "22                           195000.0  Business  \n",
      "23                           111000.0  Business  \n",
      "24                           132000.0      HASS  \n",
      "25                           156000.0      STEM  \n",
      "26                           112000.0      HASS  \n",
      "27                           101000.0  Business  \n",
      "28                           149000.0      HASS  \n",
      "29                           124000.0  Business  \n",
      "30                           173000.0      STEM  \n",
      "31                           129000.0      STEM  \n",
      "32                           107000.0      HASS  \n",
      "33                           157000.0      HASS  \n",
      "34                           145000.0      HASS  \n",
      "35                           146000.0      STEM  \n",
      "36                           175000.0  Business  \n",
      "37                           183000.0      STEM  \n",
      "38                           163000.0      STEM  \n",
      "39                           134000.0      HASS  \n",
      "40                            98300.0  Business  \n",
      "41                            99200.0      HASS  \n",
      "42                           168000.0      HASS  \n",
      "43                           124000.0      STEM  \n",
      "44                           178000.0      STEM  \n",
      "45                           168000.0      HASS  \n",
      "46                           127000.0      HASS  \n",
      "47                            96400.0      HASS  \n",
      "48                           118000.0      HASS  \n",
      "49                            96400.0      HASS  \n"
     ]
    }
   ],
   "source": [
    "print(clean_df)"
   ],
   "metadata": {
    "collapsed": false,
    "ExecuteTime": {
     "end_time": "2023-08-08T04:50:23.585278Z",
     "start_time": "2023-08-08T04:50:23.569864Z"
    }
   },
   "id": "861c21aeb9de7b65"
  },
  {
   "cell_type": "code",
   "execution_count": 5,
   "outputs": [
    {
     "data": {
      "text/plain": "                     Undergraduate Major  Starting Median Salary  \\\n0                             Accounting                 46000.0   \n1                  Aerospace Engineering                 57700.0   \n2                            Agriculture                 42600.0   \n3                           Anthropology                 36800.0   \n4                           Architecture                 41600.0   \n5                            Art History                 35800.0   \n6                                Biology                 38800.0   \n7                    Business Management                 43000.0   \n8                   Chemical Engineering                 63200.0   \n9                              Chemistry                 42600.0   \n10                     Civil Engineering                 53900.0   \n11                        Communications                 38100.0   \n12                  Computer Engineering                 61400.0   \n13                      Computer Science                 55900.0   \n14                          Construction                 53700.0   \n15                      Criminal Justice                 35000.0   \n16                                 Drama                 35900.0   \n17                             Economics                 50100.0   \n18                             Education                 34900.0   \n19                Electrical Engineering                 60900.0   \n20                               English                 38000.0   \n21                                  Film                 37900.0   \n22                               Finance                 47900.0   \n23                              Forestry                 39100.0   \n24                             Geography                 41200.0   \n25                               Geology                 43500.0   \n26                        Graphic Design                 35700.0   \n27            Health Care Administration                 38800.0   \n28                               History                 39200.0   \n29                 Hospitality & Tourism                 37800.0   \n30                Industrial Engineering                 57700.0   \n31           Information Technology (IT)                 49100.0   \n32                       Interior Design                 36100.0   \n33               International Relations                 40900.0   \n34                            Journalism                 35600.0   \n35  Management Information Systems (MIS)                 49200.0   \n36                             Marketing                 40800.0   \n37                                  Math                 45400.0   \n38                Mechanical Engineering                 57900.0   \n39                                 Music                 35900.0   \n40                               Nursing                 54200.0   \n41                             Nutrition                 39900.0   \n42                            Philosophy                 39900.0   \n43                   Physician Assistant                 74300.0   \n44                               Physics                 50300.0   \n45                     Political Science                 40800.0   \n46                            Psychology                 35900.0   \n47                              Religion                 34100.0   \n48                             Sociology                 36500.0   \n49                               Spanish                 34000.0   \n\n    Mid-Career Median Salary  Mid-Career 10th Percentile Salary  \\\n0                    77100.0                            42200.0   \n1                   101000.0                            64300.0   \n2                    71900.0                            36300.0   \n3                    61500.0                            33800.0   \n4                    76800.0                            50600.0   \n5                    64900.0                            28800.0   \n6                    64800.0                            36900.0   \n7                    72100.0                            38800.0   \n8                   107000.0                            71900.0   \n9                    79900.0                            45300.0   \n10                   90500.0                            63400.0   \n11                   70000.0                            37500.0   \n12                  105000.0                            66100.0   \n13                   95500.0                            56000.0   \n14                   88900.0                            56300.0   \n15                   56300.0                            32200.0   \n16                   56900.0                            36700.0   \n17                   98600.0                            50600.0   \n18                   52000.0                            29300.0   \n19                  103000.0                            69300.0   \n20                   64700.0                            33400.0   \n21                   68500.0                            33900.0   \n22                   88300.0                            47200.0   \n23                   62600.0                            41000.0   \n24                   65500.0                            40000.0   \n25                   79500.0                            45000.0   \n26                   59800.0                            36000.0   \n27                   60600.0                            34600.0   \n28                   71000.0                            37000.0   \n29                   57500.0                            35500.0   \n30                   94700.0                            57100.0   \n31                   74800.0                            44500.0   \n32                   53200.0                            35700.0   \n33                   80900.0                            38200.0   \n34                   66700.0                            38400.0   \n35                   82300.0                            45300.0   \n36                   79600.0                            42100.0   \n37                   92400.0                            45200.0   \n38                   93600.0                            63700.0   \n39                   55000.0                            26700.0   \n40                   67000.0                            47600.0   \n41                   55300.0                            33900.0   \n42                   81200.0                            35500.0   \n43                   91700.0                            66400.0   \n44                   97300.0                            56000.0   \n45                   78200.0                            41200.0   \n46                   60400.0                            31600.0   \n47                   52000.0                            29700.0   \n48                   58200.0                            30700.0   \n49                   53100.0                            31000.0   \n\n    Mid-Career 90th Percentile Salary     Group  \n0                            152000.0  Business  \n1                            161000.0      STEM  \n2                            150000.0  Business  \n3                            138000.0      HASS  \n4                            136000.0  Business  \n5                            125000.0      HASS  \n6                            135000.0      STEM  \n7                            147000.0  Business  \n8                            194000.0      STEM  \n9                            148000.0      STEM  \n10                           148000.0      STEM  \n11                           143000.0      HASS  \n12                           162000.0      STEM  \n13                           154000.0      STEM  \n14                           171000.0  Business  \n15                           107000.0      HASS  \n16                           153000.0      HASS  \n17                           210000.0  Business  \n18                           102000.0      HASS  \n19                           168000.0      STEM  \n20                           133000.0      HASS  \n21                           136000.0      HASS  \n22                           195000.0  Business  \n23                           111000.0  Business  \n24                           132000.0      HASS  \n25                           156000.0      STEM  \n26                           112000.0      HASS  \n27                           101000.0  Business  \n28                           149000.0      HASS  \n29                           124000.0  Business  \n30                           173000.0      STEM  \n31                           129000.0      STEM  \n32                           107000.0      HASS  \n33                           157000.0      HASS  \n34                           145000.0      HASS  \n35                           146000.0      STEM  \n36                           175000.0  Business  \n37                           183000.0      STEM  \n38                           163000.0      STEM  \n39                           134000.0      HASS  \n40                            98300.0  Business  \n41                            99200.0      HASS  \n42                           168000.0      HASS  \n43                           124000.0      STEM  \n44                           178000.0      STEM  \n45                           168000.0      HASS  \n46                           127000.0      HASS  \n47                            96400.0      HASS  \n48                           118000.0      HASS  \n49                            96400.0      HASS  ",
      "text/html": "<div>\n<style scoped>\n    .dataframe tbody tr th:only-of-type {\n        vertical-align: middle;\n    }\n\n    .dataframe tbody tr th {\n        vertical-align: top;\n    }\n\n    .dataframe thead th {\n        text-align: right;\n    }\n</style>\n<table border=\"1\" class=\"dataframe\">\n  <thead>\n    <tr style=\"text-align: right;\">\n      <th></th>\n      <th>Undergraduate Major</th>\n      <th>Starting Median Salary</th>\n      <th>Mid-Career Median Salary</th>\n      <th>Mid-Career 10th Percentile Salary</th>\n      <th>Mid-Career 90th Percentile Salary</th>\n      <th>Group</th>\n    </tr>\n  </thead>\n  <tbody>\n    <tr>\n      <th>0</th>\n      <td>Accounting</td>\n      <td>46000.0</td>\n      <td>77100.0</td>\n      <td>42200.0</td>\n      <td>152000.0</td>\n      <td>Business</td>\n    </tr>\n    <tr>\n      <th>1</th>\n      <td>Aerospace Engineering</td>\n      <td>57700.0</td>\n      <td>101000.0</td>\n      <td>64300.0</td>\n      <td>161000.0</td>\n      <td>STEM</td>\n    </tr>\n    <tr>\n      <th>2</th>\n      <td>Agriculture</td>\n      <td>42600.0</td>\n      <td>71900.0</td>\n      <td>36300.0</td>\n      <td>150000.0</td>\n      <td>Business</td>\n    </tr>\n    <tr>\n      <th>3</th>\n      <td>Anthropology</td>\n      <td>36800.0</td>\n      <td>61500.0</td>\n      <td>33800.0</td>\n      <td>138000.0</td>\n      <td>HASS</td>\n    </tr>\n    <tr>\n      <th>4</th>\n      <td>Architecture</td>\n      <td>41600.0</td>\n      <td>76800.0</td>\n      <td>50600.0</td>\n      <td>136000.0</td>\n      <td>Business</td>\n    </tr>\n    <tr>\n      <th>5</th>\n      <td>Art History</td>\n      <td>35800.0</td>\n      <td>64900.0</td>\n      <td>28800.0</td>\n      <td>125000.0</td>\n      <td>HASS</td>\n    </tr>\n    <tr>\n      <th>6</th>\n      <td>Biology</td>\n      <td>38800.0</td>\n      <td>64800.0</td>\n      <td>36900.0</td>\n      <td>135000.0</td>\n      <td>STEM</td>\n    </tr>\n    <tr>\n      <th>7</th>\n      <td>Business Management</td>\n      <td>43000.0</td>\n      <td>72100.0</td>\n      <td>38800.0</td>\n      <td>147000.0</td>\n      <td>Business</td>\n    </tr>\n    <tr>\n      <th>8</th>\n      <td>Chemical Engineering</td>\n      <td>63200.0</td>\n      <td>107000.0</td>\n      <td>71900.0</td>\n      <td>194000.0</td>\n      <td>STEM</td>\n    </tr>\n    <tr>\n      <th>9</th>\n      <td>Chemistry</td>\n      <td>42600.0</td>\n      <td>79900.0</td>\n      <td>45300.0</td>\n      <td>148000.0</td>\n      <td>STEM</td>\n    </tr>\n    <tr>\n      <th>10</th>\n      <td>Civil Engineering</td>\n      <td>53900.0</td>\n      <td>90500.0</td>\n      <td>63400.0</td>\n      <td>148000.0</td>\n      <td>STEM</td>\n    </tr>\n    <tr>\n      <th>11</th>\n      <td>Communications</td>\n      <td>38100.0</td>\n      <td>70000.0</td>\n      <td>37500.0</td>\n      <td>143000.0</td>\n      <td>HASS</td>\n    </tr>\n    <tr>\n      <th>12</th>\n      <td>Computer Engineering</td>\n      <td>61400.0</td>\n      <td>105000.0</td>\n      <td>66100.0</td>\n      <td>162000.0</td>\n      <td>STEM</td>\n    </tr>\n    <tr>\n      <th>13</th>\n      <td>Computer Science</td>\n      <td>55900.0</td>\n      <td>95500.0</td>\n      <td>56000.0</td>\n      <td>154000.0</td>\n      <td>STEM</td>\n    </tr>\n    <tr>\n      <th>14</th>\n      <td>Construction</td>\n      <td>53700.0</td>\n      <td>88900.0</td>\n      <td>56300.0</td>\n      <td>171000.0</td>\n      <td>Business</td>\n    </tr>\n    <tr>\n      <th>15</th>\n      <td>Criminal Justice</td>\n      <td>35000.0</td>\n      <td>56300.0</td>\n      <td>32200.0</td>\n      <td>107000.0</td>\n      <td>HASS</td>\n    </tr>\n    <tr>\n      <th>16</th>\n      <td>Drama</td>\n      <td>35900.0</td>\n      <td>56900.0</td>\n      <td>36700.0</td>\n      <td>153000.0</td>\n      <td>HASS</td>\n    </tr>\n    <tr>\n      <th>17</th>\n      <td>Economics</td>\n      <td>50100.0</td>\n      <td>98600.0</td>\n      <td>50600.0</td>\n      <td>210000.0</td>\n      <td>Business</td>\n    </tr>\n    <tr>\n      <th>18</th>\n      <td>Education</td>\n      <td>34900.0</td>\n      <td>52000.0</td>\n      <td>29300.0</td>\n      <td>102000.0</td>\n      <td>HASS</td>\n    </tr>\n    <tr>\n      <th>19</th>\n      <td>Electrical Engineering</td>\n      <td>60900.0</td>\n      <td>103000.0</td>\n      <td>69300.0</td>\n      <td>168000.0</td>\n      <td>STEM</td>\n    </tr>\n    <tr>\n      <th>20</th>\n      <td>English</td>\n      <td>38000.0</td>\n      <td>64700.0</td>\n      <td>33400.0</td>\n      <td>133000.0</td>\n      <td>HASS</td>\n    </tr>\n    <tr>\n      <th>21</th>\n      <td>Film</td>\n      <td>37900.0</td>\n      <td>68500.0</td>\n      <td>33900.0</td>\n      <td>136000.0</td>\n      <td>HASS</td>\n    </tr>\n    <tr>\n      <th>22</th>\n      <td>Finance</td>\n      <td>47900.0</td>\n      <td>88300.0</td>\n      <td>47200.0</td>\n      <td>195000.0</td>\n      <td>Business</td>\n    </tr>\n    <tr>\n      <th>23</th>\n      <td>Forestry</td>\n      <td>39100.0</td>\n      <td>62600.0</td>\n      <td>41000.0</td>\n      <td>111000.0</td>\n      <td>Business</td>\n    </tr>\n    <tr>\n      <th>24</th>\n      <td>Geography</td>\n      <td>41200.0</td>\n      <td>65500.0</td>\n      <td>40000.0</td>\n      <td>132000.0</td>\n      <td>HASS</td>\n    </tr>\n    <tr>\n      <th>25</th>\n      <td>Geology</td>\n      <td>43500.0</td>\n      <td>79500.0</td>\n      <td>45000.0</td>\n      <td>156000.0</td>\n      <td>STEM</td>\n    </tr>\n    <tr>\n      <th>26</th>\n      <td>Graphic Design</td>\n      <td>35700.0</td>\n      <td>59800.0</td>\n      <td>36000.0</td>\n      <td>112000.0</td>\n      <td>HASS</td>\n    </tr>\n    <tr>\n      <th>27</th>\n      <td>Health Care Administration</td>\n      <td>38800.0</td>\n      <td>60600.0</td>\n      <td>34600.0</td>\n      <td>101000.0</td>\n      <td>Business</td>\n    </tr>\n    <tr>\n      <th>28</th>\n      <td>History</td>\n      <td>39200.0</td>\n      <td>71000.0</td>\n      <td>37000.0</td>\n      <td>149000.0</td>\n      <td>HASS</td>\n    </tr>\n    <tr>\n      <th>29</th>\n      <td>Hospitality &amp; Tourism</td>\n      <td>37800.0</td>\n      <td>57500.0</td>\n      <td>35500.0</td>\n      <td>124000.0</td>\n      <td>Business</td>\n    </tr>\n    <tr>\n      <th>30</th>\n      <td>Industrial Engineering</td>\n      <td>57700.0</td>\n      <td>94700.0</td>\n      <td>57100.0</td>\n      <td>173000.0</td>\n      <td>STEM</td>\n    </tr>\n    <tr>\n      <th>31</th>\n      <td>Information Technology (IT)</td>\n      <td>49100.0</td>\n      <td>74800.0</td>\n      <td>44500.0</td>\n      <td>129000.0</td>\n      <td>STEM</td>\n    </tr>\n    <tr>\n      <th>32</th>\n      <td>Interior Design</td>\n      <td>36100.0</td>\n      <td>53200.0</td>\n      <td>35700.0</td>\n      <td>107000.0</td>\n      <td>HASS</td>\n    </tr>\n    <tr>\n      <th>33</th>\n      <td>International Relations</td>\n      <td>40900.0</td>\n      <td>80900.0</td>\n      <td>38200.0</td>\n      <td>157000.0</td>\n      <td>HASS</td>\n    </tr>\n    <tr>\n      <th>34</th>\n      <td>Journalism</td>\n      <td>35600.0</td>\n      <td>66700.0</td>\n      <td>38400.0</td>\n      <td>145000.0</td>\n      <td>HASS</td>\n    </tr>\n    <tr>\n      <th>35</th>\n      <td>Management Information Systems (MIS)</td>\n      <td>49200.0</td>\n      <td>82300.0</td>\n      <td>45300.0</td>\n      <td>146000.0</td>\n      <td>STEM</td>\n    </tr>\n    <tr>\n      <th>36</th>\n      <td>Marketing</td>\n      <td>40800.0</td>\n      <td>79600.0</td>\n      <td>42100.0</td>\n      <td>175000.0</td>\n      <td>Business</td>\n    </tr>\n    <tr>\n      <th>37</th>\n      <td>Math</td>\n      <td>45400.0</td>\n      <td>92400.0</td>\n      <td>45200.0</td>\n      <td>183000.0</td>\n      <td>STEM</td>\n    </tr>\n    <tr>\n      <th>38</th>\n      <td>Mechanical Engineering</td>\n      <td>57900.0</td>\n      <td>93600.0</td>\n      <td>63700.0</td>\n      <td>163000.0</td>\n      <td>STEM</td>\n    </tr>\n    <tr>\n      <th>39</th>\n      <td>Music</td>\n      <td>35900.0</td>\n      <td>55000.0</td>\n      <td>26700.0</td>\n      <td>134000.0</td>\n      <td>HASS</td>\n    </tr>\n    <tr>\n      <th>40</th>\n      <td>Nursing</td>\n      <td>54200.0</td>\n      <td>67000.0</td>\n      <td>47600.0</td>\n      <td>98300.0</td>\n      <td>Business</td>\n    </tr>\n    <tr>\n      <th>41</th>\n      <td>Nutrition</td>\n      <td>39900.0</td>\n      <td>55300.0</td>\n      <td>33900.0</td>\n      <td>99200.0</td>\n      <td>HASS</td>\n    </tr>\n    <tr>\n      <th>42</th>\n      <td>Philosophy</td>\n      <td>39900.0</td>\n      <td>81200.0</td>\n      <td>35500.0</td>\n      <td>168000.0</td>\n      <td>HASS</td>\n    </tr>\n    <tr>\n      <th>43</th>\n      <td>Physician Assistant</td>\n      <td>74300.0</td>\n      <td>91700.0</td>\n      <td>66400.0</td>\n      <td>124000.0</td>\n      <td>STEM</td>\n    </tr>\n    <tr>\n      <th>44</th>\n      <td>Physics</td>\n      <td>50300.0</td>\n      <td>97300.0</td>\n      <td>56000.0</td>\n      <td>178000.0</td>\n      <td>STEM</td>\n    </tr>\n    <tr>\n      <th>45</th>\n      <td>Political Science</td>\n      <td>40800.0</td>\n      <td>78200.0</td>\n      <td>41200.0</td>\n      <td>168000.0</td>\n      <td>HASS</td>\n    </tr>\n    <tr>\n      <th>46</th>\n      <td>Psychology</td>\n      <td>35900.0</td>\n      <td>60400.0</td>\n      <td>31600.0</td>\n      <td>127000.0</td>\n      <td>HASS</td>\n    </tr>\n    <tr>\n      <th>47</th>\n      <td>Religion</td>\n      <td>34100.0</td>\n      <td>52000.0</td>\n      <td>29700.0</td>\n      <td>96400.0</td>\n      <td>HASS</td>\n    </tr>\n    <tr>\n      <th>48</th>\n      <td>Sociology</td>\n      <td>36500.0</td>\n      <td>58200.0</td>\n      <td>30700.0</td>\n      <td>118000.0</td>\n      <td>HASS</td>\n    </tr>\n    <tr>\n      <th>49</th>\n      <td>Spanish</td>\n      <td>34000.0</td>\n      <td>53100.0</td>\n      <td>31000.0</td>\n      <td>96400.0</td>\n      <td>HASS</td>\n    </tr>\n  </tbody>\n</table>\n</div>"
     },
     "execution_count": 5,
     "metadata": {},
     "output_type": "execute_result"
    }
   ],
   "source": [
    "clean_df"
   ],
   "metadata": {
    "collapsed": false,
    "ExecuteTime": {
     "end_time": "2023-08-08T04:50:29.400699Z",
     "start_time": "2023-08-08T04:50:29.389070Z"
    }
   },
   "id": "cf981688fb0f3fa2"
  },
  {
   "cell_type": "code",
   "execution_count": 6,
   "outputs": [
    {
     "data": {
      "text/plain": "   Undergraduate Major  Starting Median Salary  Mid-Career Median Salary  \\\n45   Political Science                 40800.0                   78200.0   \n46          Psychology                 35900.0                   60400.0   \n47            Religion                 34100.0                   52000.0   \n48           Sociology                 36500.0                   58200.0   \n49             Spanish                 34000.0                   53100.0   \n\n    Mid-Career 10th Percentile Salary  Mid-Career 90th Percentile Salary Group  \n45                            41200.0                           168000.0  HASS  \n46                            31600.0                           127000.0  HASS  \n47                            29700.0                            96400.0  HASS  \n48                            30700.0                           118000.0  HASS  \n49                            31000.0                            96400.0  HASS  ",
      "text/html": "<div>\n<style scoped>\n    .dataframe tbody tr th:only-of-type {\n        vertical-align: middle;\n    }\n\n    .dataframe tbody tr th {\n        vertical-align: top;\n    }\n\n    .dataframe thead th {\n        text-align: right;\n    }\n</style>\n<table border=\"1\" class=\"dataframe\">\n  <thead>\n    <tr style=\"text-align: right;\">\n      <th></th>\n      <th>Undergraduate Major</th>\n      <th>Starting Median Salary</th>\n      <th>Mid-Career Median Salary</th>\n      <th>Mid-Career 10th Percentile Salary</th>\n      <th>Mid-Career 90th Percentile Salary</th>\n      <th>Group</th>\n    </tr>\n  </thead>\n  <tbody>\n    <tr>\n      <th>45</th>\n      <td>Political Science</td>\n      <td>40800.0</td>\n      <td>78200.0</td>\n      <td>41200.0</td>\n      <td>168000.0</td>\n      <td>HASS</td>\n    </tr>\n    <tr>\n      <th>46</th>\n      <td>Psychology</td>\n      <td>35900.0</td>\n      <td>60400.0</td>\n      <td>31600.0</td>\n      <td>127000.0</td>\n      <td>HASS</td>\n    </tr>\n    <tr>\n      <th>47</th>\n      <td>Religion</td>\n      <td>34100.0</td>\n      <td>52000.0</td>\n      <td>29700.0</td>\n      <td>96400.0</td>\n      <td>HASS</td>\n    </tr>\n    <tr>\n      <th>48</th>\n      <td>Sociology</td>\n      <td>36500.0</td>\n      <td>58200.0</td>\n      <td>30700.0</td>\n      <td>118000.0</td>\n      <td>HASS</td>\n    </tr>\n    <tr>\n      <th>49</th>\n      <td>Spanish</td>\n      <td>34000.0</td>\n      <td>53100.0</td>\n      <td>31000.0</td>\n      <td>96400.0</td>\n      <td>HASS</td>\n    </tr>\n  </tbody>\n</table>\n</div>"
     },
     "execution_count": 6,
     "metadata": {},
     "output_type": "execute_result"
    }
   ],
   "source": [
    "clean_df.tail()"
   ],
   "metadata": {
    "collapsed": false,
    "ExecuteTime": {
     "end_time": "2023-08-08T04:50:37.582139Z",
     "start_time": "2023-08-08T04:50:37.563954Z"
    }
   },
   "id": "43697a61a802e550"
  },
  {
   "cell_type": "code",
   "execution_count": 7,
   "outputs": [
    {
     "data": {
      "text/plain": "34000.0"
     },
     "execution_count": 7,
     "metadata": {},
     "output_type": "execute_result"
    }
   ],
   "source": [
    "clean_df[\"Starting Median Salary\"].min()"
   ],
   "metadata": {
    "collapsed": false,
    "ExecuteTime": {
     "end_time": "2023-08-08T04:51:08.041380Z",
     "start_time": "2023-08-08T04:51:08.026587Z"
    }
   },
   "id": "9551657bdc9a2bae"
  },
  {
   "cell_type": "code",
   "execution_count": 8,
   "outputs": [
    {
     "data": {
      "text/plain": "49"
     },
     "execution_count": 8,
     "metadata": {},
     "output_type": "execute_result"
    }
   ],
   "source": [
    "clean_df[\"Starting Median Salary\"].idxmin()"
   ],
   "metadata": {
    "collapsed": false,
    "ExecuteTime": {
     "end_time": "2023-08-08T04:52:07.801031Z",
     "start_time": "2023-08-08T04:52:07.782274Z"
    }
   },
   "id": "ab58e114cb3a1a0f"
  },
  {
   "cell_type": "code",
   "execution_count": 9,
   "outputs": [
    {
     "data": {
      "text/plain": "'Spanish'"
     },
     "execution_count": 9,
     "metadata": {},
     "output_type": "execute_result"
    }
   ],
   "source": [
    "clean_df[\"Undergraduate Major\"].loc[49]"
   ],
   "metadata": {
    "collapsed": false,
    "ExecuteTime": {
     "end_time": "2023-08-08T04:52:19.862070Z",
     "start_time": "2023-08-08T04:52:19.848984Z"
    }
   },
   "id": "567c0b755eb3acf8"
  },
  {
   "cell_type": "code",
   "execution_count": 10,
   "outputs": [
    {
     "data": {
      "text/plain": "26700.0"
     },
     "execution_count": 10,
     "metadata": {},
     "output_type": "execute_result"
    }
   ],
   "source": [
    "clean_df[\"Mid-Career 10th Percentile Salary\"].min()"
   ],
   "metadata": {
    "collapsed": false,
    "ExecuteTime": {
     "end_time": "2023-08-08T04:53:39.788807Z",
     "start_time": "2023-08-08T04:53:39.775052Z"
    }
   },
   "id": "cc5b99c29736a27e"
  },
  {
   "cell_type": "code",
   "execution_count": 11,
   "outputs": [
    {
     "data": {
      "text/plain": "39"
     },
     "execution_count": 11,
     "metadata": {},
     "output_type": "execute_result"
    }
   ],
   "source": [
    "clean_df[\"Mid-Career 10th Percentile Salary\"].idxmin()"
   ],
   "metadata": {
    "collapsed": false,
    "ExecuteTime": {
     "end_time": "2023-08-08T04:54:36.631721Z",
     "start_time": "2023-08-08T04:54:36.615951Z"
    }
   },
   "id": "2098092aef00528c"
  },
  {
   "cell_type": "code",
   "execution_count": 12,
   "outputs": [
    {
     "data": {
      "text/plain": "'Music'"
     },
     "execution_count": 12,
     "metadata": {},
     "output_type": "execute_result"
    }
   ],
   "source": [
    "clean_df[\"Undergraduate Major\"][39]"
   ],
   "metadata": {
    "collapsed": false,
    "ExecuteTime": {
     "end_time": "2023-08-08T04:54:46.701463Z",
     "start_time": "2023-08-08T04:54:46.681205Z"
    }
   },
   "id": "fe3eb3eb4d1793a2"
  },
  {
   "cell_type": "code",
   "execution_count": 13,
   "outputs": [
    {
     "data": {
      "text/plain": "     Undergraduate Major    Spread  Starting Median Salary  \\\n0             Accounting  109800.0                 46000.0   \n1  Aerospace Engineering   96700.0                 57700.0   \n2            Agriculture  113700.0                 42600.0   \n3           Anthropology  104200.0                 36800.0   \n4           Architecture   85400.0                 41600.0   \n\n   Mid-Career Median Salary  Mid-Career 10th Percentile Salary  \\\n0                   77100.0                            42200.0   \n1                  101000.0                            64300.0   \n2                   71900.0                            36300.0   \n3                   61500.0                            33800.0   \n4                   76800.0                            50600.0   \n\n   Mid-Career 90th Percentile Salary     Group  \n0                           152000.0  Business  \n1                           161000.0      STEM  \n2                           150000.0  Business  \n3                           138000.0      HASS  \n4                           136000.0  Business  ",
      "text/html": "<div>\n<style scoped>\n    .dataframe tbody tr th:only-of-type {\n        vertical-align: middle;\n    }\n\n    .dataframe tbody tr th {\n        vertical-align: top;\n    }\n\n    .dataframe thead th {\n        text-align: right;\n    }\n</style>\n<table border=\"1\" class=\"dataframe\">\n  <thead>\n    <tr style=\"text-align: right;\">\n      <th></th>\n      <th>Undergraduate Major</th>\n      <th>Spread</th>\n      <th>Starting Median Salary</th>\n      <th>Mid-Career Median Salary</th>\n      <th>Mid-Career 10th Percentile Salary</th>\n      <th>Mid-Career 90th Percentile Salary</th>\n      <th>Group</th>\n    </tr>\n  </thead>\n  <tbody>\n    <tr>\n      <th>0</th>\n      <td>Accounting</td>\n      <td>109800.0</td>\n      <td>46000.0</td>\n      <td>77100.0</td>\n      <td>42200.0</td>\n      <td>152000.0</td>\n      <td>Business</td>\n    </tr>\n    <tr>\n      <th>1</th>\n      <td>Aerospace Engineering</td>\n      <td>96700.0</td>\n      <td>57700.0</td>\n      <td>101000.0</td>\n      <td>64300.0</td>\n      <td>161000.0</td>\n      <td>STEM</td>\n    </tr>\n    <tr>\n      <th>2</th>\n      <td>Agriculture</td>\n      <td>113700.0</td>\n      <td>42600.0</td>\n      <td>71900.0</td>\n      <td>36300.0</td>\n      <td>150000.0</td>\n      <td>Business</td>\n    </tr>\n    <tr>\n      <th>3</th>\n      <td>Anthropology</td>\n      <td>104200.0</td>\n      <td>36800.0</td>\n      <td>61500.0</td>\n      <td>33800.0</td>\n      <td>138000.0</td>\n      <td>HASS</td>\n    </tr>\n    <tr>\n      <th>4</th>\n      <td>Architecture</td>\n      <td>85400.0</td>\n      <td>41600.0</td>\n      <td>76800.0</td>\n      <td>50600.0</td>\n      <td>136000.0</td>\n      <td>Business</td>\n    </tr>\n  </tbody>\n</table>\n</div>"
     },
     "execution_count": 13,
     "metadata": {},
     "output_type": "execute_result"
    }
   ],
   "source": [
    "spread_col = clean_df[\"Mid-Career 90th Percentile Salary\"].subtract(clean_df[\"Mid-Career 10th Percentile Salary\"])\n",
    "clean_df.insert(1, \"Spread\", spread_col)\n",
    "clean_df.head()"
   ],
   "metadata": {
    "collapsed": false,
    "ExecuteTime": {
     "end_time": "2023-08-08T05:00:35.701774Z",
     "start_time": "2023-08-08T05:00:35.659369Z"
    }
   },
   "id": "4158a78226f8ebb1"
  },
  {
   "cell_type": "code",
   "execution_count": 14,
   "outputs": [
    {
     "data": {
      "text/plain": "                     Undergraduate Major    Spread  Starting Median Salary  \\\n40                               Nursing   50700.0                 54200.0   \n43                   Physician Assistant   57600.0                 74300.0   \n41                             Nutrition   65300.0                 39900.0   \n49                               Spanish   65400.0                 34000.0   \n27            Health Care Administration   66400.0                 38800.0   \n47                              Religion   66700.0                 34100.0   \n23                              Forestry   70000.0                 39100.0   \n32                       Interior Design   71300.0                 36100.0   \n18                             Education   72700.0                 34900.0   \n15                      Criminal Justice   74800.0                 35000.0   \n26                        Graphic Design   76000.0                 35700.0   \n31           Information Technology (IT)   84500.0                 49100.0   \n10                     Civil Engineering   84600.0                 53900.0   \n4                           Architecture   85400.0                 41600.0   \n48                             Sociology   87300.0                 36500.0   \n29                 Hospitality & Tourism   88500.0                 37800.0   \n24                             Geography   92000.0                 41200.0   \n46                            Psychology   95400.0                 35900.0   \n12                  Computer Engineering   95900.0                 61400.0   \n5                            Art History   96200.0                 35800.0   \n1                  Aerospace Engineering   96700.0                 57700.0   \n13                      Computer Science   98000.0                 55900.0   \n6                                Biology   98100.0                 38800.0   \n19                Electrical Engineering   98700.0                 60900.0   \n38                Mechanical Engineering   99300.0                 57900.0   \n20                               English   99600.0                 38000.0   \n35  Management Information Systems (MIS)  100700.0                 49200.0   \n21                                  Film  102100.0                 37900.0   \n9                              Chemistry  102700.0                 42600.0   \n3                           Anthropology  104200.0                 36800.0   \n11                        Communications  105500.0                 38100.0   \n34                            Journalism  106600.0                 35600.0   \n39                                 Music  107300.0                 35900.0   \n7                    Business Management  108200.0                 43000.0   \n0                             Accounting  109800.0                 46000.0   \n25                               Geology  111000.0                 43500.0   \n28                               History  112000.0                 39200.0   \n2                            Agriculture  113700.0                 42600.0   \n14                          Construction  114700.0                 53700.0   \n30                Industrial Engineering  115900.0                 57700.0   \n16                                 Drama  116300.0                 35900.0   \n33               International Relations  118800.0                 40900.0   \n44                               Physics  122000.0                 50300.0   \n8                   Chemical Engineering  122100.0                 63200.0   \n45                     Political Science  126800.0                 40800.0   \n42                            Philosophy  132500.0                 39900.0   \n36                             Marketing  132900.0                 40800.0   \n37                                  Math  137800.0                 45400.0   \n22                               Finance  147800.0                 47900.0   \n17                             Economics  159400.0                 50100.0   \n\n    Mid-Career Median Salary  Mid-Career 10th Percentile Salary  \\\n40                   67000.0                            47600.0   \n43                   91700.0                            66400.0   \n41                   55300.0                            33900.0   \n49                   53100.0                            31000.0   \n27                   60600.0                            34600.0   \n47                   52000.0                            29700.0   \n23                   62600.0                            41000.0   \n32                   53200.0                            35700.0   \n18                   52000.0                            29300.0   \n15                   56300.0                            32200.0   \n26                   59800.0                            36000.0   \n31                   74800.0                            44500.0   \n10                   90500.0                            63400.0   \n4                    76800.0                            50600.0   \n48                   58200.0                            30700.0   \n29                   57500.0                            35500.0   \n24                   65500.0                            40000.0   \n46                   60400.0                            31600.0   \n12                  105000.0                            66100.0   \n5                    64900.0                            28800.0   \n1                   101000.0                            64300.0   \n13                   95500.0                            56000.0   \n6                    64800.0                            36900.0   \n19                  103000.0                            69300.0   \n38                   93600.0                            63700.0   \n20                   64700.0                            33400.0   \n35                   82300.0                            45300.0   \n21                   68500.0                            33900.0   \n9                    79900.0                            45300.0   \n3                    61500.0                            33800.0   \n11                   70000.0                            37500.0   \n34                   66700.0                            38400.0   \n39                   55000.0                            26700.0   \n7                    72100.0                            38800.0   \n0                    77100.0                            42200.0   \n25                   79500.0                            45000.0   \n28                   71000.0                            37000.0   \n2                    71900.0                            36300.0   \n14                   88900.0                            56300.0   \n30                   94700.0                            57100.0   \n16                   56900.0                            36700.0   \n33                   80900.0                            38200.0   \n44                   97300.0                            56000.0   \n8                   107000.0                            71900.0   \n45                   78200.0                            41200.0   \n42                   81200.0                            35500.0   \n36                   79600.0                            42100.0   \n37                   92400.0                            45200.0   \n22                   88300.0                            47200.0   \n17                   98600.0                            50600.0   \n\n    Mid-Career 90th Percentile Salary     Group  \n40                            98300.0  Business  \n43                           124000.0      STEM  \n41                            99200.0      HASS  \n49                            96400.0      HASS  \n27                           101000.0  Business  \n47                            96400.0      HASS  \n23                           111000.0  Business  \n32                           107000.0      HASS  \n18                           102000.0      HASS  \n15                           107000.0      HASS  \n26                           112000.0      HASS  \n31                           129000.0      STEM  \n10                           148000.0      STEM  \n4                            136000.0  Business  \n48                           118000.0      HASS  \n29                           124000.0  Business  \n24                           132000.0      HASS  \n46                           127000.0      HASS  \n12                           162000.0      STEM  \n5                            125000.0      HASS  \n1                            161000.0      STEM  \n13                           154000.0      STEM  \n6                            135000.0      STEM  \n19                           168000.0      STEM  \n38                           163000.0      STEM  \n20                           133000.0      HASS  \n35                           146000.0      STEM  \n21                           136000.0      HASS  \n9                            148000.0      STEM  \n3                            138000.0      HASS  \n11                           143000.0      HASS  \n34                           145000.0      HASS  \n39                           134000.0      HASS  \n7                            147000.0  Business  \n0                            152000.0  Business  \n25                           156000.0      STEM  \n28                           149000.0      HASS  \n2                            150000.0  Business  \n14                           171000.0  Business  \n30                           173000.0      STEM  \n16                           153000.0      HASS  \n33                           157000.0      HASS  \n44                           178000.0      STEM  \n8                            194000.0      STEM  \n45                           168000.0      HASS  \n42                           168000.0      HASS  \n36                           175000.0  Business  \n37                           183000.0      STEM  \n22                           195000.0  Business  \n17                           210000.0  Business  ",
      "text/html": "<div>\n<style scoped>\n    .dataframe tbody tr th:only-of-type {\n        vertical-align: middle;\n    }\n\n    .dataframe tbody tr th {\n        vertical-align: top;\n    }\n\n    .dataframe thead th {\n        text-align: right;\n    }\n</style>\n<table border=\"1\" class=\"dataframe\">\n  <thead>\n    <tr style=\"text-align: right;\">\n      <th></th>\n      <th>Undergraduate Major</th>\n      <th>Spread</th>\n      <th>Starting Median Salary</th>\n      <th>Mid-Career Median Salary</th>\n      <th>Mid-Career 10th Percentile Salary</th>\n      <th>Mid-Career 90th Percentile Salary</th>\n      <th>Group</th>\n    </tr>\n  </thead>\n  <tbody>\n    <tr>\n      <th>40</th>\n      <td>Nursing</td>\n      <td>50700.0</td>\n      <td>54200.0</td>\n      <td>67000.0</td>\n      <td>47600.0</td>\n      <td>98300.0</td>\n      <td>Business</td>\n    </tr>\n    <tr>\n      <th>43</th>\n      <td>Physician Assistant</td>\n      <td>57600.0</td>\n      <td>74300.0</td>\n      <td>91700.0</td>\n      <td>66400.0</td>\n      <td>124000.0</td>\n      <td>STEM</td>\n    </tr>\n    <tr>\n      <th>41</th>\n      <td>Nutrition</td>\n      <td>65300.0</td>\n      <td>39900.0</td>\n      <td>55300.0</td>\n      <td>33900.0</td>\n      <td>99200.0</td>\n      <td>HASS</td>\n    </tr>\n    <tr>\n      <th>49</th>\n      <td>Spanish</td>\n      <td>65400.0</td>\n      <td>34000.0</td>\n      <td>53100.0</td>\n      <td>31000.0</td>\n      <td>96400.0</td>\n      <td>HASS</td>\n    </tr>\n    <tr>\n      <th>27</th>\n      <td>Health Care Administration</td>\n      <td>66400.0</td>\n      <td>38800.0</td>\n      <td>60600.0</td>\n      <td>34600.0</td>\n      <td>101000.0</td>\n      <td>Business</td>\n    </tr>\n    <tr>\n      <th>47</th>\n      <td>Religion</td>\n      <td>66700.0</td>\n      <td>34100.0</td>\n      <td>52000.0</td>\n      <td>29700.0</td>\n      <td>96400.0</td>\n      <td>HASS</td>\n    </tr>\n    <tr>\n      <th>23</th>\n      <td>Forestry</td>\n      <td>70000.0</td>\n      <td>39100.0</td>\n      <td>62600.0</td>\n      <td>41000.0</td>\n      <td>111000.0</td>\n      <td>Business</td>\n    </tr>\n    <tr>\n      <th>32</th>\n      <td>Interior Design</td>\n      <td>71300.0</td>\n      <td>36100.0</td>\n      <td>53200.0</td>\n      <td>35700.0</td>\n      <td>107000.0</td>\n      <td>HASS</td>\n    </tr>\n    <tr>\n      <th>18</th>\n      <td>Education</td>\n      <td>72700.0</td>\n      <td>34900.0</td>\n      <td>52000.0</td>\n      <td>29300.0</td>\n      <td>102000.0</td>\n      <td>HASS</td>\n    </tr>\n    <tr>\n      <th>15</th>\n      <td>Criminal Justice</td>\n      <td>74800.0</td>\n      <td>35000.0</td>\n      <td>56300.0</td>\n      <td>32200.0</td>\n      <td>107000.0</td>\n      <td>HASS</td>\n    </tr>\n    <tr>\n      <th>26</th>\n      <td>Graphic Design</td>\n      <td>76000.0</td>\n      <td>35700.0</td>\n      <td>59800.0</td>\n      <td>36000.0</td>\n      <td>112000.0</td>\n      <td>HASS</td>\n    </tr>\n    <tr>\n      <th>31</th>\n      <td>Information Technology (IT)</td>\n      <td>84500.0</td>\n      <td>49100.0</td>\n      <td>74800.0</td>\n      <td>44500.0</td>\n      <td>129000.0</td>\n      <td>STEM</td>\n    </tr>\n    <tr>\n      <th>10</th>\n      <td>Civil Engineering</td>\n      <td>84600.0</td>\n      <td>53900.0</td>\n      <td>90500.0</td>\n      <td>63400.0</td>\n      <td>148000.0</td>\n      <td>STEM</td>\n    </tr>\n    <tr>\n      <th>4</th>\n      <td>Architecture</td>\n      <td>85400.0</td>\n      <td>41600.0</td>\n      <td>76800.0</td>\n      <td>50600.0</td>\n      <td>136000.0</td>\n      <td>Business</td>\n    </tr>\n    <tr>\n      <th>48</th>\n      <td>Sociology</td>\n      <td>87300.0</td>\n      <td>36500.0</td>\n      <td>58200.0</td>\n      <td>30700.0</td>\n      <td>118000.0</td>\n      <td>HASS</td>\n    </tr>\n    <tr>\n      <th>29</th>\n      <td>Hospitality &amp; Tourism</td>\n      <td>88500.0</td>\n      <td>37800.0</td>\n      <td>57500.0</td>\n      <td>35500.0</td>\n      <td>124000.0</td>\n      <td>Business</td>\n    </tr>\n    <tr>\n      <th>24</th>\n      <td>Geography</td>\n      <td>92000.0</td>\n      <td>41200.0</td>\n      <td>65500.0</td>\n      <td>40000.0</td>\n      <td>132000.0</td>\n      <td>HASS</td>\n    </tr>\n    <tr>\n      <th>46</th>\n      <td>Psychology</td>\n      <td>95400.0</td>\n      <td>35900.0</td>\n      <td>60400.0</td>\n      <td>31600.0</td>\n      <td>127000.0</td>\n      <td>HASS</td>\n    </tr>\n    <tr>\n      <th>12</th>\n      <td>Computer Engineering</td>\n      <td>95900.0</td>\n      <td>61400.0</td>\n      <td>105000.0</td>\n      <td>66100.0</td>\n      <td>162000.0</td>\n      <td>STEM</td>\n    </tr>\n    <tr>\n      <th>5</th>\n      <td>Art History</td>\n      <td>96200.0</td>\n      <td>35800.0</td>\n      <td>64900.0</td>\n      <td>28800.0</td>\n      <td>125000.0</td>\n      <td>HASS</td>\n    </tr>\n    <tr>\n      <th>1</th>\n      <td>Aerospace Engineering</td>\n      <td>96700.0</td>\n      <td>57700.0</td>\n      <td>101000.0</td>\n      <td>64300.0</td>\n      <td>161000.0</td>\n      <td>STEM</td>\n    </tr>\n    <tr>\n      <th>13</th>\n      <td>Computer Science</td>\n      <td>98000.0</td>\n      <td>55900.0</td>\n      <td>95500.0</td>\n      <td>56000.0</td>\n      <td>154000.0</td>\n      <td>STEM</td>\n    </tr>\n    <tr>\n      <th>6</th>\n      <td>Biology</td>\n      <td>98100.0</td>\n      <td>38800.0</td>\n      <td>64800.0</td>\n      <td>36900.0</td>\n      <td>135000.0</td>\n      <td>STEM</td>\n    </tr>\n    <tr>\n      <th>19</th>\n      <td>Electrical Engineering</td>\n      <td>98700.0</td>\n      <td>60900.0</td>\n      <td>103000.0</td>\n      <td>69300.0</td>\n      <td>168000.0</td>\n      <td>STEM</td>\n    </tr>\n    <tr>\n      <th>38</th>\n      <td>Mechanical Engineering</td>\n      <td>99300.0</td>\n      <td>57900.0</td>\n      <td>93600.0</td>\n      <td>63700.0</td>\n      <td>163000.0</td>\n      <td>STEM</td>\n    </tr>\n    <tr>\n      <th>20</th>\n      <td>English</td>\n      <td>99600.0</td>\n      <td>38000.0</td>\n      <td>64700.0</td>\n      <td>33400.0</td>\n      <td>133000.0</td>\n      <td>HASS</td>\n    </tr>\n    <tr>\n      <th>35</th>\n      <td>Management Information Systems (MIS)</td>\n      <td>100700.0</td>\n      <td>49200.0</td>\n      <td>82300.0</td>\n      <td>45300.0</td>\n      <td>146000.0</td>\n      <td>STEM</td>\n    </tr>\n    <tr>\n      <th>21</th>\n      <td>Film</td>\n      <td>102100.0</td>\n      <td>37900.0</td>\n      <td>68500.0</td>\n      <td>33900.0</td>\n      <td>136000.0</td>\n      <td>HASS</td>\n    </tr>\n    <tr>\n      <th>9</th>\n      <td>Chemistry</td>\n      <td>102700.0</td>\n      <td>42600.0</td>\n      <td>79900.0</td>\n      <td>45300.0</td>\n      <td>148000.0</td>\n      <td>STEM</td>\n    </tr>\n    <tr>\n      <th>3</th>\n      <td>Anthropology</td>\n      <td>104200.0</td>\n      <td>36800.0</td>\n      <td>61500.0</td>\n      <td>33800.0</td>\n      <td>138000.0</td>\n      <td>HASS</td>\n    </tr>\n    <tr>\n      <th>11</th>\n      <td>Communications</td>\n      <td>105500.0</td>\n      <td>38100.0</td>\n      <td>70000.0</td>\n      <td>37500.0</td>\n      <td>143000.0</td>\n      <td>HASS</td>\n    </tr>\n    <tr>\n      <th>34</th>\n      <td>Journalism</td>\n      <td>106600.0</td>\n      <td>35600.0</td>\n      <td>66700.0</td>\n      <td>38400.0</td>\n      <td>145000.0</td>\n      <td>HASS</td>\n    </tr>\n    <tr>\n      <th>39</th>\n      <td>Music</td>\n      <td>107300.0</td>\n      <td>35900.0</td>\n      <td>55000.0</td>\n      <td>26700.0</td>\n      <td>134000.0</td>\n      <td>HASS</td>\n    </tr>\n    <tr>\n      <th>7</th>\n      <td>Business Management</td>\n      <td>108200.0</td>\n      <td>43000.0</td>\n      <td>72100.0</td>\n      <td>38800.0</td>\n      <td>147000.0</td>\n      <td>Business</td>\n    </tr>\n    <tr>\n      <th>0</th>\n      <td>Accounting</td>\n      <td>109800.0</td>\n      <td>46000.0</td>\n      <td>77100.0</td>\n      <td>42200.0</td>\n      <td>152000.0</td>\n      <td>Business</td>\n    </tr>\n    <tr>\n      <th>25</th>\n      <td>Geology</td>\n      <td>111000.0</td>\n      <td>43500.0</td>\n      <td>79500.0</td>\n      <td>45000.0</td>\n      <td>156000.0</td>\n      <td>STEM</td>\n    </tr>\n    <tr>\n      <th>28</th>\n      <td>History</td>\n      <td>112000.0</td>\n      <td>39200.0</td>\n      <td>71000.0</td>\n      <td>37000.0</td>\n      <td>149000.0</td>\n      <td>HASS</td>\n    </tr>\n    <tr>\n      <th>2</th>\n      <td>Agriculture</td>\n      <td>113700.0</td>\n      <td>42600.0</td>\n      <td>71900.0</td>\n      <td>36300.0</td>\n      <td>150000.0</td>\n      <td>Business</td>\n    </tr>\n    <tr>\n      <th>14</th>\n      <td>Construction</td>\n      <td>114700.0</td>\n      <td>53700.0</td>\n      <td>88900.0</td>\n      <td>56300.0</td>\n      <td>171000.0</td>\n      <td>Business</td>\n    </tr>\n    <tr>\n      <th>30</th>\n      <td>Industrial Engineering</td>\n      <td>115900.0</td>\n      <td>57700.0</td>\n      <td>94700.0</td>\n      <td>57100.0</td>\n      <td>173000.0</td>\n      <td>STEM</td>\n    </tr>\n    <tr>\n      <th>16</th>\n      <td>Drama</td>\n      <td>116300.0</td>\n      <td>35900.0</td>\n      <td>56900.0</td>\n      <td>36700.0</td>\n      <td>153000.0</td>\n      <td>HASS</td>\n    </tr>\n    <tr>\n      <th>33</th>\n      <td>International Relations</td>\n      <td>118800.0</td>\n      <td>40900.0</td>\n      <td>80900.0</td>\n      <td>38200.0</td>\n      <td>157000.0</td>\n      <td>HASS</td>\n    </tr>\n    <tr>\n      <th>44</th>\n      <td>Physics</td>\n      <td>122000.0</td>\n      <td>50300.0</td>\n      <td>97300.0</td>\n      <td>56000.0</td>\n      <td>178000.0</td>\n      <td>STEM</td>\n    </tr>\n    <tr>\n      <th>8</th>\n      <td>Chemical Engineering</td>\n      <td>122100.0</td>\n      <td>63200.0</td>\n      <td>107000.0</td>\n      <td>71900.0</td>\n      <td>194000.0</td>\n      <td>STEM</td>\n    </tr>\n    <tr>\n      <th>45</th>\n      <td>Political Science</td>\n      <td>126800.0</td>\n      <td>40800.0</td>\n      <td>78200.0</td>\n      <td>41200.0</td>\n      <td>168000.0</td>\n      <td>HASS</td>\n    </tr>\n    <tr>\n      <th>42</th>\n      <td>Philosophy</td>\n      <td>132500.0</td>\n      <td>39900.0</td>\n      <td>81200.0</td>\n      <td>35500.0</td>\n      <td>168000.0</td>\n      <td>HASS</td>\n    </tr>\n    <tr>\n      <th>36</th>\n      <td>Marketing</td>\n      <td>132900.0</td>\n      <td>40800.0</td>\n      <td>79600.0</td>\n      <td>42100.0</td>\n      <td>175000.0</td>\n      <td>Business</td>\n    </tr>\n    <tr>\n      <th>37</th>\n      <td>Math</td>\n      <td>137800.0</td>\n      <td>45400.0</td>\n      <td>92400.0</td>\n      <td>45200.0</td>\n      <td>183000.0</td>\n      <td>STEM</td>\n    </tr>\n    <tr>\n      <th>22</th>\n      <td>Finance</td>\n      <td>147800.0</td>\n      <td>47900.0</td>\n      <td>88300.0</td>\n      <td>47200.0</td>\n      <td>195000.0</td>\n      <td>Business</td>\n    </tr>\n    <tr>\n      <th>17</th>\n      <td>Economics</td>\n      <td>159400.0</td>\n      <td>50100.0</td>\n      <td>98600.0</td>\n      <td>50600.0</td>\n      <td>210000.0</td>\n      <td>Business</td>\n    </tr>\n  </tbody>\n</table>\n</div>"
     },
     "execution_count": 14,
     "metadata": {},
     "output_type": "execute_result"
    }
   ],
   "source": [
    "low_risk = clean_df.sort_values(\"Spread\")\n",
    "low_risk"
   ],
   "metadata": {
    "collapsed": false,
    "ExecuteTime": {
     "end_time": "2023-08-08T05:02:33.921859Z",
     "start_time": "2023-08-08T05:02:33.915201Z"
    }
   },
   "id": "813b97a5f0747e8c"
  },
  {
   "cell_type": "code",
   "execution_count": 15,
   "outputs": [
    {
     "data": {
      "text/plain": "           Undergraduate Major   Spread\n40                     Nursing  50700.0\n43         Physician Assistant  57600.0\n41                   Nutrition  65300.0\n49                     Spanish  65400.0\n27  Health Care Administration  66400.0",
      "text/html": "<div>\n<style scoped>\n    .dataframe tbody tr th:only-of-type {\n        vertical-align: middle;\n    }\n\n    .dataframe tbody tr th {\n        vertical-align: top;\n    }\n\n    .dataframe thead th {\n        text-align: right;\n    }\n</style>\n<table border=\"1\" class=\"dataframe\">\n  <thead>\n    <tr style=\"text-align: right;\">\n      <th></th>\n      <th>Undergraduate Major</th>\n      <th>Spread</th>\n    </tr>\n  </thead>\n  <tbody>\n    <tr>\n      <th>40</th>\n      <td>Nursing</td>\n      <td>50700.0</td>\n    </tr>\n    <tr>\n      <th>43</th>\n      <td>Physician Assistant</td>\n      <td>57600.0</td>\n    </tr>\n    <tr>\n      <th>41</th>\n      <td>Nutrition</td>\n      <td>65300.0</td>\n    </tr>\n    <tr>\n      <th>49</th>\n      <td>Spanish</td>\n      <td>65400.0</td>\n    </tr>\n    <tr>\n      <th>27</th>\n      <td>Health Care Administration</td>\n      <td>66400.0</td>\n    </tr>\n  </tbody>\n</table>\n</div>"
     },
     "execution_count": 15,
     "metadata": {},
     "output_type": "execute_result"
    }
   ],
   "source": [
    "low_risk[[\"Undergraduate Major\", \"Spread\"]].head()"
   ],
   "metadata": {
    "collapsed": false,
    "ExecuteTime": {
     "end_time": "2023-08-08T05:03:30.833346Z",
     "start_time": "2023-08-08T05:03:30.828670Z"
    }
   },
   "id": "36bc73478c063b0b"
  },
  {
   "cell_type": "code",
   "execution_count": 16,
   "outputs": [
    {
     "ename": "TypeError",
     "evalue": "DataFrame.sort_values() missing 1 required positional argument: 'by'",
     "output_type": "error",
     "traceback": [
      "\u001B[0;31m---------------------------------------------------------------------------\u001B[0m",
      "\u001B[0;31mTypeError\u001B[0m                                 Traceback (most recent call last)",
      "Cell \u001B[0;32mIn[16], line 1\u001B[0m\n\u001B[0;32m----> 1\u001B[0m low_risk \u001B[38;5;241m=\u001B[39m clean_df\u001B[38;5;241m.\u001B[39msort_values(ascending\u001B[38;5;241m=\u001B[39m\u001B[38;5;28;01mTrue\u001B[39;00m)\n\u001B[1;32m      2\u001B[0m low_risk[[\u001B[38;5;124m\"\u001B[39m\u001B[38;5;124mUndergraduate Major\u001B[39m\u001B[38;5;124m\"\u001B[39m, \u001B[38;5;124m\"\u001B[39m\u001B[38;5;124mSpread\u001B[39m\u001B[38;5;124m\"\u001B[39m]]\u001B[38;5;241m.\u001B[39mhead()\n",
      "File \u001B[0;32m/Volumes/T7/Conda/anaconda3/lib/python3.11/site-packages/pandas/util/_decorators.py:331\u001B[0m, in \u001B[0;36mdeprecate_nonkeyword_arguments.<locals>.decorate.<locals>.wrapper\u001B[0;34m(*args, **kwargs)\u001B[0m\n\u001B[1;32m    325\u001B[0m \u001B[38;5;28;01mif\u001B[39;00m \u001B[38;5;28mlen\u001B[39m(args) \u001B[38;5;241m>\u001B[39m num_allow_args:\n\u001B[1;32m    326\u001B[0m     warnings\u001B[38;5;241m.\u001B[39mwarn(\n\u001B[1;32m    327\u001B[0m         msg\u001B[38;5;241m.\u001B[39mformat(arguments\u001B[38;5;241m=\u001B[39m_format_argument_list(allow_args)),\n\u001B[1;32m    328\u001B[0m         \u001B[38;5;167;01mFutureWarning\u001B[39;00m,\n\u001B[1;32m    329\u001B[0m         stacklevel\u001B[38;5;241m=\u001B[39mfind_stack_level(),\n\u001B[1;32m    330\u001B[0m     )\n\u001B[0;32m--> 331\u001B[0m \u001B[38;5;28;01mreturn\u001B[39;00m func(\u001B[38;5;241m*\u001B[39margs, \u001B[38;5;241m*\u001B[39m\u001B[38;5;241m*\u001B[39mkwargs)\n",
      "\u001B[0;31mTypeError\u001B[0m: DataFrame.sort_values() missing 1 required positional argument: 'by'"
     ]
    }
   ],
   "source": [
    "low_risk = clean_df.sort_values(ascending=True)\n",
    "low_risk[[\"Undergraduate Major\", \"Spread\"]].head()"
   ],
   "metadata": {
    "collapsed": false,
    "ExecuteTime": {
     "end_time": "2023-08-08T05:04:44.916527Z",
     "start_time": "2023-08-08T05:04:44.356564Z"
    }
   },
   "id": "c1ae423576bcea2c"
  },
  {
   "cell_type": "code",
   "execution_count": 17,
   "outputs": [],
   "source": [
    "low_risk = clean_df.sort_values(by=[\"Undergraduate Major\", \"Spread\"], ascending=True).head()"
   ],
   "metadata": {
    "collapsed": false,
    "ExecuteTime": {
     "end_time": "2023-08-08T05:05:45.157438Z",
     "start_time": "2023-08-08T05:05:45.141950Z"
    }
   },
   "id": "f881bc37cf431c7"
  },
  {
   "cell_type": "code",
   "execution_count": 18,
   "outputs": [
    {
     "data": {
      "text/plain": "     Undergraduate Major    Spread  Starting Median Salary  \\\n0             Accounting  109800.0                 46000.0   \n1  Aerospace Engineering   96700.0                 57700.0   \n2            Agriculture  113700.0                 42600.0   \n3           Anthropology  104200.0                 36800.0   \n4           Architecture   85400.0                 41600.0   \n\n   Mid-Career Median Salary  Mid-Career 10th Percentile Salary  \\\n0                   77100.0                            42200.0   \n1                  101000.0                            64300.0   \n2                   71900.0                            36300.0   \n3                   61500.0                            33800.0   \n4                   76800.0                            50600.0   \n\n   Mid-Career 90th Percentile Salary     Group  \n0                           152000.0  Business  \n1                           161000.0      STEM  \n2                           150000.0  Business  \n3                           138000.0      HASS  \n4                           136000.0  Business  ",
      "text/html": "<div>\n<style scoped>\n    .dataframe tbody tr th:only-of-type {\n        vertical-align: middle;\n    }\n\n    .dataframe tbody tr th {\n        vertical-align: top;\n    }\n\n    .dataframe thead th {\n        text-align: right;\n    }\n</style>\n<table border=\"1\" class=\"dataframe\">\n  <thead>\n    <tr style=\"text-align: right;\">\n      <th></th>\n      <th>Undergraduate Major</th>\n      <th>Spread</th>\n      <th>Starting Median Salary</th>\n      <th>Mid-Career Median Salary</th>\n      <th>Mid-Career 10th Percentile Salary</th>\n      <th>Mid-Career 90th Percentile Salary</th>\n      <th>Group</th>\n    </tr>\n  </thead>\n  <tbody>\n    <tr>\n      <th>0</th>\n      <td>Accounting</td>\n      <td>109800.0</td>\n      <td>46000.0</td>\n      <td>77100.0</td>\n      <td>42200.0</td>\n      <td>152000.0</td>\n      <td>Business</td>\n    </tr>\n    <tr>\n      <th>1</th>\n      <td>Aerospace Engineering</td>\n      <td>96700.0</td>\n      <td>57700.0</td>\n      <td>101000.0</td>\n      <td>64300.0</td>\n      <td>161000.0</td>\n      <td>STEM</td>\n    </tr>\n    <tr>\n      <th>2</th>\n      <td>Agriculture</td>\n      <td>113700.0</td>\n      <td>42600.0</td>\n      <td>71900.0</td>\n      <td>36300.0</td>\n      <td>150000.0</td>\n      <td>Business</td>\n    </tr>\n    <tr>\n      <th>3</th>\n      <td>Anthropology</td>\n      <td>104200.0</td>\n      <td>36800.0</td>\n      <td>61500.0</td>\n      <td>33800.0</td>\n      <td>138000.0</td>\n      <td>HASS</td>\n    </tr>\n    <tr>\n      <th>4</th>\n      <td>Architecture</td>\n      <td>85400.0</td>\n      <td>41600.0</td>\n      <td>76800.0</td>\n      <td>50600.0</td>\n      <td>136000.0</td>\n      <td>Business</td>\n    </tr>\n  </tbody>\n</table>\n</div>"
     },
     "execution_count": 18,
     "metadata": {},
     "output_type": "execute_result"
    }
   ],
   "source": [
    "low_risk"
   ],
   "metadata": {
    "collapsed": false,
    "ExecuteTime": {
     "end_time": "2023-08-08T05:05:48.355622Z",
     "start_time": "2023-08-08T05:05:48.341076Z"
    }
   },
   "id": "2d74ea5c69ed4200"
  },
  {
   "cell_type": "code",
   "execution_count": 19,
   "outputs": [
    {
     "data": {
      "text/plain": "           Undergraduate Major   Spread\n40                     Nursing  50700.0\n43         Physician Assistant  57600.0\n41                   Nutrition  65300.0\n49                     Spanish  65400.0\n27  Health Care Administration  66400.0",
      "text/html": "<div>\n<style scoped>\n    .dataframe tbody tr th:only-of-type {\n        vertical-align: middle;\n    }\n\n    .dataframe tbody tr th {\n        vertical-align: top;\n    }\n\n    .dataframe thead th {\n        text-align: right;\n    }\n</style>\n<table border=\"1\" class=\"dataframe\">\n  <thead>\n    <tr style=\"text-align: right;\">\n      <th></th>\n      <th>Undergraduate Major</th>\n      <th>Spread</th>\n    </tr>\n  </thead>\n  <tbody>\n    <tr>\n      <th>40</th>\n      <td>Nursing</td>\n      <td>50700.0</td>\n    </tr>\n    <tr>\n      <th>43</th>\n      <td>Physician Assistant</td>\n      <td>57600.0</td>\n    </tr>\n    <tr>\n      <th>41</th>\n      <td>Nutrition</td>\n      <td>65300.0</td>\n    </tr>\n    <tr>\n      <th>49</th>\n      <td>Spanish</td>\n      <td>65400.0</td>\n    </tr>\n    <tr>\n      <th>27</th>\n      <td>Health Care Administration</td>\n      <td>66400.0</td>\n    </tr>\n  </tbody>\n</table>\n</div>"
     },
     "execution_count": 19,
     "metadata": {},
     "output_type": "execute_result"
    }
   ],
   "source": [
    "low_risk = clean_df.sort_values(by=\"Spread\", ascending=True)\n",
    "low_risk[[\"Undergraduate Major\", \"Spread\"]].head()"
   ],
   "metadata": {
    "collapsed": false,
    "ExecuteTime": {
     "end_time": "2023-08-08T05:06:39.298941Z",
     "start_time": "2023-08-08T05:06:39.283653Z"
    }
   },
   "id": "6973951b83622c87"
  },
  {
   "cell_type": "code",
   "execution_count": 20,
   "outputs": [
    {
     "data": {
      "text/plain": "                     Undergraduate Major    Spread  Starting Median Salary  \\\n17                             Economics  159400.0                 50100.0   \n22                               Finance  147800.0                 47900.0   \n8                   Chemical Engineering  122100.0                 63200.0   \n37                                  Math  137800.0                 45400.0   \n44                               Physics  122000.0                 50300.0   \n36                             Marketing  132900.0                 40800.0   \n30                Industrial Engineering  115900.0                 57700.0   \n14                          Construction  114700.0                 53700.0   \n45                     Political Science  126800.0                 40800.0   \n42                            Philosophy  132500.0                 39900.0   \n19                Electrical Engineering   98700.0                 60900.0   \n38                Mechanical Engineering   99300.0                 57900.0   \n12                  Computer Engineering   95900.0                 61400.0   \n1                  Aerospace Engineering   96700.0                 57700.0   \n33               International Relations  118800.0                 40900.0   \n25                               Geology  111000.0                 43500.0   \n13                      Computer Science   98000.0                 55900.0   \n16                                 Drama  116300.0                 35900.0   \n0                             Accounting  109800.0                 46000.0   \n2                            Agriculture  113700.0                 42600.0   \n28                               History  112000.0                 39200.0   \n10                     Civil Engineering   84600.0                 53900.0   \n9                              Chemistry  102700.0                 42600.0   \n7                    Business Management  108200.0                 43000.0   \n35  Management Information Systems (MIS)  100700.0                 49200.0   \n34                            Journalism  106600.0                 35600.0   \n11                        Communications  105500.0                 38100.0   \n3                           Anthropology  104200.0                 36800.0   \n21                                  Film  102100.0                 37900.0   \n4                           Architecture   85400.0                 41600.0   \n6                                Biology   98100.0                 38800.0   \n39                                 Music  107300.0                 35900.0   \n20                               English   99600.0                 38000.0   \n24                             Geography   92000.0                 41200.0   \n31           Information Technology (IT)   84500.0                 49100.0   \n46                            Psychology   95400.0                 35900.0   \n5                            Art History   96200.0                 35800.0   \n29                 Hospitality & Tourism   88500.0                 37800.0   \n43                   Physician Assistant   57600.0                 74300.0   \n48                             Sociology   87300.0                 36500.0   \n26                        Graphic Design   76000.0                 35700.0   \n23                              Forestry   70000.0                 39100.0   \n32                       Interior Design   71300.0                 36100.0   \n15                      Criminal Justice   74800.0                 35000.0   \n18                             Education   72700.0                 34900.0   \n27            Health Care Administration   66400.0                 38800.0   \n41                             Nutrition   65300.0                 39900.0   \n40                               Nursing   50700.0                 54200.0   \n47                              Religion   66700.0                 34100.0   \n49                               Spanish   65400.0                 34000.0   \n\n    Mid-Career Median Salary  Mid-Career 10th Percentile Salary  \\\n17                   98600.0                            50600.0   \n22                   88300.0                            47200.0   \n8                   107000.0                            71900.0   \n37                   92400.0                            45200.0   \n44                   97300.0                            56000.0   \n36                   79600.0                            42100.0   \n30                   94700.0                            57100.0   \n14                   88900.0                            56300.0   \n45                   78200.0                            41200.0   \n42                   81200.0                            35500.0   \n19                  103000.0                            69300.0   \n38                   93600.0                            63700.0   \n12                  105000.0                            66100.0   \n1                   101000.0                            64300.0   \n33                   80900.0                            38200.0   \n25                   79500.0                            45000.0   \n13                   95500.0                            56000.0   \n16                   56900.0                            36700.0   \n0                    77100.0                            42200.0   \n2                    71900.0                            36300.0   \n28                   71000.0                            37000.0   \n10                   90500.0                            63400.0   \n9                    79900.0                            45300.0   \n7                    72100.0                            38800.0   \n35                   82300.0                            45300.0   \n34                   66700.0                            38400.0   \n11                   70000.0                            37500.0   \n3                    61500.0                            33800.0   \n21                   68500.0                            33900.0   \n4                    76800.0                            50600.0   \n6                    64800.0                            36900.0   \n39                   55000.0                            26700.0   \n20                   64700.0                            33400.0   \n24                   65500.0                            40000.0   \n31                   74800.0                            44500.0   \n46                   60400.0                            31600.0   \n5                    64900.0                            28800.0   \n29                   57500.0                            35500.0   \n43                   91700.0                            66400.0   \n48                   58200.0                            30700.0   \n26                   59800.0                            36000.0   \n23                   62600.0                            41000.0   \n32                   53200.0                            35700.0   \n15                   56300.0                            32200.0   \n18                   52000.0                            29300.0   \n27                   60600.0                            34600.0   \n41                   55300.0                            33900.0   \n40                   67000.0                            47600.0   \n47                   52000.0                            29700.0   \n49                   53100.0                            31000.0   \n\n    Mid-Career 90th Percentile Salary     Group  \n17                           210000.0  Business  \n22                           195000.0  Business  \n8                            194000.0      STEM  \n37                           183000.0      STEM  \n44                           178000.0      STEM  \n36                           175000.0  Business  \n30                           173000.0      STEM  \n14                           171000.0  Business  \n45                           168000.0      HASS  \n42                           168000.0      HASS  \n19                           168000.0      STEM  \n38                           163000.0      STEM  \n12                           162000.0      STEM  \n1                            161000.0      STEM  \n33                           157000.0      HASS  \n25                           156000.0      STEM  \n13                           154000.0      STEM  \n16                           153000.0      HASS  \n0                            152000.0  Business  \n2                            150000.0  Business  \n28                           149000.0      HASS  \n10                           148000.0      STEM  \n9                            148000.0      STEM  \n7                            147000.0  Business  \n35                           146000.0      STEM  \n34                           145000.0      HASS  \n11                           143000.0      HASS  \n3                            138000.0      HASS  \n21                           136000.0      HASS  \n4                            136000.0  Business  \n6                            135000.0      STEM  \n39                           134000.0      HASS  \n20                           133000.0      HASS  \n24                           132000.0      HASS  \n31                           129000.0      STEM  \n46                           127000.0      HASS  \n5                            125000.0      HASS  \n29                           124000.0  Business  \n43                           124000.0      STEM  \n48                           118000.0      HASS  \n26                           112000.0      HASS  \n23                           111000.0  Business  \n32                           107000.0      HASS  \n15                           107000.0      HASS  \n18                           102000.0      HASS  \n27                           101000.0  Business  \n41                            99200.0      HASS  \n40                            98300.0  Business  \n47                            96400.0      HASS  \n49                            96400.0      HASS  ",
      "text/html": "<div>\n<style scoped>\n    .dataframe tbody tr th:only-of-type {\n        vertical-align: middle;\n    }\n\n    .dataframe tbody tr th {\n        vertical-align: top;\n    }\n\n    .dataframe thead th {\n        text-align: right;\n    }\n</style>\n<table border=\"1\" class=\"dataframe\">\n  <thead>\n    <tr style=\"text-align: right;\">\n      <th></th>\n      <th>Undergraduate Major</th>\n      <th>Spread</th>\n      <th>Starting Median Salary</th>\n      <th>Mid-Career Median Salary</th>\n      <th>Mid-Career 10th Percentile Salary</th>\n      <th>Mid-Career 90th Percentile Salary</th>\n      <th>Group</th>\n    </tr>\n  </thead>\n  <tbody>\n    <tr>\n      <th>17</th>\n      <td>Economics</td>\n      <td>159400.0</td>\n      <td>50100.0</td>\n      <td>98600.0</td>\n      <td>50600.0</td>\n      <td>210000.0</td>\n      <td>Business</td>\n    </tr>\n    <tr>\n      <th>22</th>\n      <td>Finance</td>\n      <td>147800.0</td>\n      <td>47900.0</td>\n      <td>88300.0</td>\n      <td>47200.0</td>\n      <td>195000.0</td>\n      <td>Business</td>\n    </tr>\n    <tr>\n      <th>8</th>\n      <td>Chemical Engineering</td>\n      <td>122100.0</td>\n      <td>63200.0</td>\n      <td>107000.0</td>\n      <td>71900.0</td>\n      <td>194000.0</td>\n      <td>STEM</td>\n    </tr>\n    <tr>\n      <th>37</th>\n      <td>Math</td>\n      <td>137800.0</td>\n      <td>45400.0</td>\n      <td>92400.0</td>\n      <td>45200.0</td>\n      <td>183000.0</td>\n      <td>STEM</td>\n    </tr>\n    <tr>\n      <th>44</th>\n      <td>Physics</td>\n      <td>122000.0</td>\n      <td>50300.0</td>\n      <td>97300.0</td>\n      <td>56000.0</td>\n      <td>178000.0</td>\n      <td>STEM</td>\n    </tr>\n    <tr>\n      <th>36</th>\n      <td>Marketing</td>\n      <td>132900.0</td>\n      <td>40800.0</td>\n      <td>79600.0</td>\n      <td>42100.0</td>\n      <td>175000.0</td>\n      <td>Business</td>\n    </tr>\n    <tr>\n      <th>30</th>\n      <td>Industrial Engineering</td>\n      <td>115900.0</td>\n      <td>57700.0</td>\n      <td>94700.0</td>\n      <td>57100.0</td>\n      <td>173000.0</td>\n      <td>STEM</td>\n    </tr>\n    <tr>\n      <th>14</th>\n      <td>Construction</td>\n      <td>114700.0</td>\n      <td>53700.0</td>\n      <td>88900.0</td>\n      <td>56300.0</td>\n      <td>171000.0</td>\n      <td>Business</td>\n    </tr>\n    <tr>\n      <th>45</th>\n      <td>Political Science</td>\n      <td>126800.0</td>\n      <td>40800.0</td>\n      <td>78200.0</td>\n      <td>41200.0</td>\n      <td>168000.0</td>\n      <td>HASS</td>\n    </tr>\n    <tr>\n      <th>42</th>\n      <td>Philosophy</td>\n      <td>132500.0</td>\n      <td>39900.0</td>\n      <td>81200.0</td>\n      <td>35500.0</td>\n      <td>168000.0</td>\n      <td>HASS</td>\n    </tr>\n    <tr>\n      <th>19</th>\n      <td>Electrical Engineering</td>\n      <td>98700.0</td>\n      <td>60900.0</td>\n      <td>103000.0</td>\n      <td>69300.0</td>\n      <td>168000.0</td>\n      <td>STEM</td>\n    </tr>\n    <tr>\n      <th>38</th>\n      <td>Mechanical Engineering</td>\n      <td>99300.0</td>\n      <td>57900.0</td>\n      <td>93600.0</td>\n      <td>63700.0</td>\n      <td>163000.0</td>\n      <td>STEM</td>\n    </tr>\n    <tr>\n      <th>12</th>\n      <td>Computer Engineering</td>\n      <td>95900.0</td>\n      <td>61400.0</td>\n      <td>105000.0</td>\n      <td>66100.0</td>\n      <td>162000.0</td>\n      <td>STEM</td>\n    </tr>\n    <tr>\n      <th>1</th>\n      <td>Aerospace Engineering</td>\n      <td>96700.0</td>\n      <td>57700.0</td>\n      <td>101000.0</td>\n      <td>64300.0</td>\n      <td>161000.0</td>\n      <td>STEM</td>\n    </tr>\n    <tr>\n      <th>33</th>\n      <td>International Relations</td>\n      <td>118800.0</td>\n      <td>40900.0</td>\n      <td>80900.0</td>\n      <td>38200.0</td>\n      <td>157000.0</td>\n      <td>HASS</td>\n    </tr>\n    <tr>\n      <th>25</th>\n      <td>Geology</td>\n      <td>111000.0</td>\n      <td>43500.0</td>\n      <td>79500.0</td>\n      <td>45000.0</td>\n      <td>156000.0</td>\n      <td>STEM</td>\n    </tr>\n    <tr>\n      <th>13</th>\n      <td>Computer Science</td>\n      <td>98000.0</td>\n      <td>55900.0</td>\n      <td>95500.0</td>\n      <td>56000.0</td>\n      <td>154000.0</td>\n      <td>STEM</td>\n    </tr>\n    <tr>\n      <th>16</th>\n      <td>Drama</td>\n      <td>116300.0</td>\n      <td>35900.0</td>\n      <td>56900.0</td>\n      <td>36700.0</td>\n      <td>153000.0</td>\n      <td>HASS</td>\n    </tr>\n    <tr>\n      <th>0</th>\n      <td>Accounting</td>\n      <td>109800.0</td>\n      <td>46000.0</td>\n      <td>77100.0</td>\n      <td>42200.0</td>\n      <td>152000.0</td>\n      <td>Business</td>\n    </tr>\n    <tr>\n      <th>2</th>\n      <td>Agriculture</td>\n      <td>113700.0</td>\n      <td>42600.0</td>\n      <td>71900.0</td>\n      <td>36300.0</td>\n      <td>150000.0</td>\n      <td>Business</td>\n    </tr>\n    <tr>\n      <th>28</th>\n      <td>History</td>\n      <td>112000.0</td>\n      <td>39200.0</td>\n      <td>71000.0</td>\n      <td>37000.0</td>\n      <td>149000.0</td>\n      <td>HASS</td>\n    </tr>\n    <tr>\n      <th>10</th>\n      <td>Civil Engineering</td>\n      <td>84600.0</td>\n      <td>53900.0</td>\n      <td>90500.0</td>\n      <td>63400.0</td>\n      <td>148000.0</td>\n      <td>STEM</td>\n    </tr>\n    <tr>\n      <th>9</th>\n      <td>Chemistry</td>\n      <td>102700.0</td>\n      <td>42600.0</td>\n      <td>79900.0</td>\n      <td>45300.0</td>\n      <td>148000.0</td>\n      <td>STEM</td>\n    </tr>\n    <tr>\n      <th>7</th>\n      <td>Business Management</td>\n      <td>108200.0</td>\n      <td>43000.0</td>\n      <td>72100.0</td>\n      <td>38800.0</td>\n      <td>147000.0</td>\n      <td>Business</td>\n    </tr>\n    <tr>\n      <th>35</th>\n      <td>Management Information Systems (MIS)</td>\n      <td>100700.0</td>\n      <td>49200.0</td>\n      <td>82300.0</td>\n      <td>45300.0</td>\n      <td>146000.0</td>\n      <td>STEM</td>\n    </tr>\n    <tr>\n      <th>34</th>\n      <td>Journalism</td>\n      <td>106600.0</td>\n      <td>35600.0</td>\n      <td>66700.0</td>\n      <td>38400.0</td>\n      <td>145000.0</td>\n      <td>HASS</td>\n    </tr>\n    <tr>\n      <th>11</th>\n      <td>Communications</td>\n      <td>105500.0</td>\n      <td>38100.0</td>\n      <td>70000.0</td>\n      <td>37500.0</td>\n      <td>143000.0</td>\n      <td>HASS</td>\n    </tr>\n    <tr>\n      <th>3</th>\n      <td>Anthropology</td>\n      <td>104200.0</td>\n      <td>36800.0</td>\n      <td>61500.0</td>\n      <td>33800.0</td>\n      <td>138000.0</td>\n      <td>HASS</td>\n    </tr>\n    <tr>\n      <th>21</th>\n      <td>Film</td>\n      <td>102100.0</td>\n      <td>37900.0</td>\n      <td>68500.0</td>\n      <td>33900.0</td>\n      <td>136000.0</td>\n      <td>HASS</td>\n    </tr>\n    <tr>\n      <th>4</th>\n      <td>Architecture</td>\n      <td>85400.0</td>\n      <td>41600.0</td>\n      <td>76800.0</td>\n      <td>50600.0</td>\n      <td>136000.0</td>\n      <td>Business</td>\n    </tr>\n    <tr>\n      <th>6</th>\n      <td>Biology</td>\n      <td>98100.0</td>\n      <td>38800.0</td>\n      <td>64800.0</td>\n      <td>36900.0</td>\n      <td>135000.0</td>\n      <td>STEM</td>\n    </tr>\n    <tr>\n      <th>39</th>\n      <td>Music</td>\n      <td>107300.0</td>\n      <td>35900.0</td>\n      <td>55000.0</td>\n      <td>26700.0</td>\n      <td>134000.0</td>\n      <td>HASS</td>\n    </tr>\n    <tr>\n      <th>20</th>\n      <td>English</td>\n      <td>99600.0</td>\n      <td>38000.0</td>\n      <td>64700.0</td>\n      <td>33400.0</td>\n      <td>133000.0</td>\n      <td>HASS</td>\n    </tr>\n    <tr>\n      <th>24</th>\n      <td>Geography</td>\n      <td>92000.0</td>\n      <td>41200.0</td>\n      <td>65500.0</td>\n      <td>40000.0</td>\n      <td>132000.0</td>\n      <td>HASS</td>\n    </tr>\n    <tr>\n      <th>31</th>\n      <td>Information Technology (IT)</td>\n      <td>84500.0</td>\n      <td>49100.0</td>\n      <td>74800.0</td>\n      <td>44500.0</td>\n      <td>129000.0</td>\n      <td>STEM</td>\n    </tr>\n    <tr>\n      <th>46</th>\n      <td>Psychology</td>\n      <td>95400.0</td>\n      <td>35900.0</td>\n      <td>60400.0</td>\n      <td>31600.0</td>\n      <td>127000.0</td>\n      <td>HASS</td>\n    </tr>\n    <tr>\n      <th>5</th>\n      <td>Art History</td>\n      <td>96200.0</td>\n      <td>35800.0</td>\n      <td>64900.0</td>\n      <td>28800.0</td>\n      <td>125000.0</td>\n      <td>HASS</td>\n    </tr>\n    <tr>\n      <th>29</th>\n      <td>Hospitality &amp; Tourism</td>\n      <td>88500.0</td>\n      <td>37800.0</td>\n      <td>57500.0</td>\n      <td>35500.0</td>\n      <td>124000.0</td>\n      <td>Business</td>\n    </tr>\n    <tr>\n      <th>43</th>\n      <td>Physician Assistant</td>\n      <td>57600.0</td>\n      <td>74300.0</td>\n      <td>91700.0</td>\n      <td>66400.0</td>\n      <td>124000.0</td>\n      <td>STEM</td>\n    </tr>\n    <tr>\n      <th>48</th>\n      <td>Sociology</td>\n      <td>87300.0</td>\n      <td>36500.0</td>\n      <td>58200.0</td>\n      <td>30700.0</td>\n      <td>118000.0</td>\n      <td>HASS</td>\n    </tr>\n    <tr>\n      <th>26</th>\n      <td>Graphic Design</td>\n      <td>76000.0</td>\n      <td>35700.0</td>\n      <td>59800.0</td>\n      <td>36000.0</td>\n      <td>112000.0</td>\n      <td>HASS</td>\n    </tr>\n    <tr>\n      <th>23</th>\n      <td>Forestry</td>\n      <td>70000.0</td>\n      <td>39100.0</td>\n      <td>62600.0</td>\n      <td>41000.0</td>\n      <td>111000.0</td>\n      <td>Business</td>\n    </tr>\n    <tr>\n      <th>32</th>\n      <td>Interior Design</td>\n      <td>71300.0</td>\n      <td>36100.0</td>\n      <td>53200.0</td>\n      <td>35700.0</td>\n      <td>107000.0</td>\n      <td>HASS</td>\n    </tr>\n    <tr>\n      <th>15</th>\n      <td>Criminal Justice</td>\n      <td>74800.0</td>\n      <td>35000.0</td>\n      <td>56300.0</td>\n      <td>32200.0</td>\n      <td>107000.0</td>\n      <td>HASS</td>\n    </tr>\n    <tr>\n      <th>18</th>\n      <td>Education</td>\n      <td>72700.0</td>\n      <td>34900.0</td>\n      <td>52000.0</td>\n      <td>29300.0</td>\n      <td>102000.0</td>\n      <td>HASS</td>\n    </tr>\n    <tr>\n      <th>27</th>\n      <td>Health Care Administration</td>\n      <td>66400.0</td>\n      <td>38800.0</td>\n      <td>60600.0</td>\n      <td>34600.0</td>\n      <td>101000.0</td>\n      <td>Business</td>\n    </tr>\n    <tr>\n      <th>41</th>\n      <td>Nutrition</td>\n      <td>65300.0</td>\n      <td>39900.0</td>\n      <td>55300.0</td>\n      <td>33900.0</td>\n      <td>99200.0</td>\n      <td>HASS</td>\n    </tr>\n    <tr>\n      <th>40</th>\n      <td>Nursing</td>\n      <td>50700.0</td>\n      <td>54200.0</td>\n      <td>67000.0</td>\n      <td>47600.0</td>\n      <td>98300.0</td>\n      <td>Business</td>\n    </tr>\n    <tr>\n      <th>47</th>\n      <td>Religion</td>\n      <td>66700.0</td>\n      <td>34100.0</td>\n      <td>52000.0</td>\n      <td>29700.0</td>\n      <td>96400.0</td>\n      <td>HASS</td>\n    </tr>\n    <tr>\n      <th>49</th>\n      <td>Spanish</td>\n      <td>65400.0</td>\n      <td>34000.0</td>\n      <td>53100.0</td>\n      <td>31000.0</td>\n      <td>96400.0</td>\n      <td>HASS</td>\n    </tr>\n  </tbody>\n</table>\n</div>"
     },
     "execution_count": 20,
     "metadata": {},
     "output_type": "execute_result"
    }
   ],
   "source": [
    "high_potential = clean_df.sort_values(by=\"Mid-Career 90th Percentile Salary\", ascending=False)\n",
    "high_potential"
   ],
   "metadata": {
    "collapsed": false,
    "ExecuteTime": {
     "end_time": "2023-08-08T05:08:57.878086Z",
     "start_time": "2023-08-08T05:08:57.861654Z"
    }
   },
   "id": "ec0f818bdee7124b"
  },
  {
   "cell_type": "code",
   "execution_count": 21,
   "outputs": [
    {
     "data": {
      "text/plain": "     Undergraduate Major    Spread  Starting Median Salary  \\\n17             Economics  159400.0                 50100.0   \n22               Finance  147800.0                 47900.0   \n8   Chemical Engineering  122100.0                 63200.0   \n37                  Math  137800.0                 45400.0   \n44               Physics  122000.0                 50300.0   \n\n    Mid-Career Median Salary  Mid-Career 10th Percentile Salary  \\\n17                   98600.0                            50600.0   \n22                   88300.0                            47200.0   \n8                   107000.0                            71900.0   \n37                   92400.0                            45200.0   \n44                   97300.0                            56000.0   \n\n    Mid-Career 90th Percentile Salary     Group  \n17                           210000.0  Business  \n22                           195000.0  Business  \n8                            194000.0      STEM  \n37                           183000.0      STEM  \n44                           178000.0      STEM  ",
      "text/html": "<div>\n<style scoped>\n    .dataframe tbody tr th:only-of-type {\n        vertical-align: middle;\n    }\n\n    .dataframe tbody tr th {\n        vertical-align: top;\n    }\n\n    .dataframe thead th {\n        text-align: right;\n    }\n</style>\n<table border=\"1\" class=\"dataframe\">\n  <thead>\n    <tr style=\"text-align: right;\">\n      <th></th>\n      <th>Undergraduate Major</th>\n      <th>Spread</th>\n      <th>Starting Median Salary</th>\n      <th>Mid-Career Median Salary</th>\n      <th>Mid-Career 10th Percentile Salary</th>\n      <th>Mid-Career 90th Percentile Salary</th>\n      <th>Group</th>\n    </tr>\n  </thead>\n  <tbody>\n    <tr>\n      <th>17</th>\n      <td>Economics</td>\n      <td>159400.0</td>\n      <td>50100.0</td>\n      <td>98600.0</td>\n      <td>50600.0</td>\n      <td>210000.0</td>\n      <td>Business</td>\n    </tr>\n    <tr>\n      <th>22</th>\n      <td>Finance</td>\n      <td>147800.0</td>\n      <td>47900.0</td>\n      <td>88300.0</td>\n      <td>47200.0</td>\n      <td>195000.0</td>\n      <td>Business</td>\n    </tr>\n    <tr>\n      <th>8</th>\n      <td>Chemical Engineering</td>\n      <td>122100.0</td>\n      <td>63200.0</td>\n      <td>107000.0</td>\n      <td>71900.0</td>\n      <td>194000.0</td>\n      <td>STEM</td>\n    </tr>\n    <tr>\n      <th>37</th>\n      <td>Math</td>\n      <td>137800.0</td>\n      <td>45400.0</td>\n      <td>92400.0</td>\n      <td>45200.0</td>\n      <td>183000.0</td>\n      <td>STEM</td>\n    </tr>\n    <tr>\n      <th>44</th>\n      <td>Physics</td>\n      <td>122000.0</td>\n      <td>50300.0</td>\n      <td>97300.0</td>\n      <td>56000.0</td>\n      <td>178000.0</td>\n      <td>STEM</td>\n    </tr>\n  </tbody>\n</table>\n</div>"
     },
     "execution_count": 21,
     "metadata": {},
     "output_type": "execute_result"
    }
   ],
   "source": [
    "high_potential.head()"
   ],
   "metadata": {
    "collapsed": false,
    "ExecuteTime": {
     "end_time": "2023-08-08T05:09:14.926694Z",
     "start_time": "2023-08-08T05:09:14.919838Z"
    }
   },
   "id": "89d16be7ff428d61"
  },
  {
   "cell_type": "code",
   "execution_count": 22,
   "outputs": [
    {
     "data": {
      "text/plain": "   Undergraduate Major    Spread  Starting Median Salary  \\\n17           Economics  159400.0                 50100.0   \n22             Finance  147800.0                 47900.0   \n37                Math  137800.0                 45400.0   \n36           Marketing  132900.0                 40800.0   \n42          Philosophy  132500.0                 39900.0   \n\n    Mid-Career Median Salary  Mid-Career 10th Percentile Salary  \\\n17                   98600.0                            50600.0   \n22                   88300.0                            47200.0   \n37                   92400.0                            45200.0   \n36                   79600.0                            42100.0   \n42                   81200.0                            35500.0   \n\n    Mid-Career 90th Percentile Salary     Group  \n17                           210000.0  Business  \n22                           195000.0  Business  \n37                           183000.0      STEM  \n36                           175000.0  Business  \n42                           168000.0      HASS  ",
      "text/html": "<div>\n<style scoped>\n    .dataframe tbody tr th:only-of-type {\n        vertical-align: middle;\n    }\n\n    .dataframe tbody tr th {\n        vertical-align: top;\n    }\n\n    .dataframe thead th {\n        text-align: right;\n    }\n</style>\n<table border=\"1\" class=\"dataframe\">\n  <thead>\n    <tr style=\"text-align: right;\">\n      <th></th>\n      <th>Undergraduate Major</th>\n      <th>Spread</th>\n      <th>Starting Median Salary</th>\n      <th>Mid-Career Median Salary</th>\n      <th>Mid-Career 10th Percentile Salary</th>\n      <th>Mid-Career 90th Percentile Salary</th>\n      <th>Group</th>\n    </tr>\n  </thead>\n  <tbody>\n    <tr>\n      <th>17</th>\n      <td>Economics</td>\n      <td>159400.0</td>\n      <td>50100.0</td>\n      <td>98600.0</td>\n      <td>50600.0</td>\n      <td>210000.0</td>\n      <td>Business</td>\n    </tr>\n    <tr>\n      <th>22</th>\n      <td>Finance</td>\n      <td>147800.0</td>\n      <td>47900.0</td>\n      <td>88300.0</td>\n      <td>47200.0</td>\n      <td>195000.0</td>\n      <td>Business</td>\n    </tr>\n    <tr>\n      <th>37</th>\n      <td>Math</td>\n      <td>137800.0</td>\n      <td>45400.0</td>\n      <td>92400.0</td>\n      <td>45200.0</td>\n      <td>183000.0</td>\n      <td>STEM</td>\n    </tr>\n    <tr>\n      <th>36</th>\n      <td>Marketing</td>\n      <td>132900.0</td>\n      <td>40800.0</td>\n      <td>79600.0</td>\n      <td>42100.0</td>\n      <td>175000.0</td>\n      <td>Business</td>\n    </tr>\n    <tr>\n      <th>42</th>\n      <td>Philosophy</td>\n      <td>132500.0</td>\n      <td>39900.0</td>\n      <td>81200.0</td>\n      <td>35500.0</td>\n      <td>168000.0</td>\n      <td>HASS</td>\n    </tr>\n  </tbody>\n</table>\n</div>"
     },
     "execution_count": 22,
     "metadata": {},
     "output_type": "execute_result"
    }
   ],
   "source": [
    "greatest_spread = clean_df.sort_values(by=\"Spread\", ascending=False)\n",
    "greatest_spread.head()"
   ],
   "metadata": {
    "collapsed": false,
    "ExecuteTime": {
     "end_time": "2023-08-08T05:10:14.058258Z",
     "start_time": "2023-08-08T05:10:14.034560Z"
    }
   },
   "id": "c8e9ebeef9104b38"
  },
  {
   "cell_type": "code",
   "execution_count": 23,
   "outputs": [
    {
     "data": {
      "text/plain": "   Undergraduate Major    Spread\n17           Economics  159400.0\n22             Finance  147800.0\n37                Math  137800.0\n36           Marketing  132900.0\n42          Philosophy  132500.0",
      "text/html": "<div>\n<style scoped>\n    .dataframe tbody tr th:only-of-type {\n        vertical-align: middle;\n    }\n\n    .dataframe tbody tr th {\n        vertical-align: top;\n    }\n\n    .dataframe thead th {\n        text-align: right;\n    }\n</style>\n<table border=\"1\" class=\"dataframe\">\n  <thead>\n    <tr style=\"text-align: right;\">\n      <th></th>\n      <th>Undergraduate Major</th>\n      <th>Spread</th>\n    </tr>\n  </thead>\n  <tbody>\n    <tr>\n      <th>17</th>\n      <td>Economics</td>\n      <td>159400.0</td>\n    </tr>\n    <tr>\n      <th>22</th>\n      <td>Finance</td>\n      <td>147800.0</td>\n    </tr>\n    <tr>\n      <th>37</th>\n      <td>Math</td>\n      <td>137800.0</td>\n    </tr>\n    <tr>\n      <th>36</th>\n      <td>Marketing</td>\n      <td>132900.0</td>\n    </tr>\n    <tr>\n      <th>42</th>\n      <td>Philosophy</td>\n      <td>132500.0</td>\n    </tr>\n  </tbody>\n</table>\n</div>"
     },
     "execution_count": 23,
     "metadata": {},
     "output_type": "execute_result"
    }
   ],
   "source": [
    "greatest_spread[[\"Undergraduate Major\", \"Spread\"]].head()"
   ],
   "metadata": {
    "collapsed": false,
    "ExecuteTime": {
     "end_time": "2023-08-08T05:11:07.420202Z",
     "start_time": "2023-08-08T05:11:07.414435Z"
    }
   },
   "id": "c09ee7dde342d223"
  },
  {
   "cell_type": "code",
   "execution_count": 24,
   "outputs": [
    {
     "data": {
      "text/plain": "       Undergraduate Major    Spread\n8     Chemical Engineering  122100.0\n12    Computer Engineering   95900.0\n19  Electrical Engineering   98700.0\n1    Aerospace Engineering   96700.0\n17               Economics  159400.0",
      "text/html": "<div>\n<style scoped>\n    .dataframe tbody tr th:only-of-type {\n        vertical-align: middle;\n    }\n\n    .dataframe tbody tr th {\n        vertical-align: top;\n    }\n\n    .dataframe thead th {\n        text-align: right;\n    }\n</style>\n<table border=\"1\" class=\"dataframe\">\n  <thead>\n    <tr style=\"text-align: right;\">\n      <th></th>\n      <th>Undergraduate Major</th>\n      <th>Spread</th>\n    </tr>\n  </thead>\n  <tbody>\n    <tr>\n      <th>8</th>\n      <td>Chemical Engineering</td>\n      <td>122100.0</td>\n    </tr>\n    <tr>\n      <th>12</th>\n      <td>Computer Engineering</td>\n      <td>95900.0</td>\n    </tr>\n    <tr>\n      <th>19</th>\n      <td>Electrical Engineering</td>\n      <td>98700.0</td>\n    </tr>\n    <tr>\n      <th>1</th>\n      <td>Aerospace Engineering</td>\n      <td>96700.0</td>\n    </tr>\n    <tr>\n      <th>17</th>\n      <td>Economics</td>\n      <td>159400.0</td>\n    </tr>\n  </tbody>\n</table>\n</div>"
     },
     "execution_count": 24,
     "metadata": {},
     "output_type": "execute_result"
    }
   ],
   "source": [
    "highest_spread = clean_df.sort_values(by=\"Mid-Career Median Salary\", ascending=False)\n",
    "highest_spread[[\"Undergraduate Major\", \"Spread\"]].head()"
   ],
   "metadata": {
    "collapsed": false,
    "ExecuteTime": {
     "end_time": "2023-08-08T05:14:24.294496Z",
     "start_time": "2023-08-08T05:14:24.274310Z"
    }
   },
   "id": "afe87c7c41936b16"
  },
  {
   "cell_type": "code",
   "execution_count": 25,
   "outputs": [
    {
     "data": {
      "text/plain": "       Undergraduate Major  Mid-Career Median Salary\n8     Chemical Engineering                  107000.0\n12    Computer Engineering                  105000.0\n19  Electrical Engineering                  103000.0\n1    Aerospace Engineering                  101000.0\n17               Economics                   98600.0",
      "text/html": "<div>\n<style scoped>\n    .dataframe tbody tr th:only-of-type {\n        vertical-align: middle;\n    }\n\n    .dataframe tbody tr th {\n        vertical-align: top;\n    }\n\n    .dataframe thead th {\n        text-align: right;\n    }\n</style>\n<table border=\"1\" class=\"dataframe\">\n  <thead>\n    <tr style=\"text-align: right;\">\n      <th></th>\n      <th>Undergraduate Major</th>\n      <th>Mid-Career Median Salary</th>\n    </tr>\n  </thead>\n  <tbody>\n    <tr>\n      <th>8</th>\n      <td>Chemical Engineering</td>\n      <td>107000.0</td>\n    </tr>\n    <tr>\n      <th>12</th>\n      <td>Computer Engineering</td>\n      <td>105000.0</td>\n    </tr>\n    <tr>\n      <th>19</th>\n      <td>Electrical Engineering</td>\n      <td>103000.0</td>\n    </tr>\n    <tr>\n      <th>1</th>\n      <td>Aerospace Engineering</td>\n      <td>101000.0</td>\n    </tr>\n    <tr>\n      <th>17</th>\n      <td>Economics</td>\n      <td>98600.0</td>\n    </tr>\n  </tbody>\n</table>\n</div>"
     },
     "execution_count": 25,
     "metadata": {},
     "output_type": "execute_result"
    }
   ],
   "source": [
    "highest_spread[[\"Undergraduate Major\", \"Mid-Career Median Salary\"]].head()"
   ],
   "metadata": {
    "collapsed": false,
    "ExecuteTime": {
     "end_time": "2023-08-08T05:15:10.404701Z",
     "start_time": "2023-08-08T05:15:10.393760Z"
    }
   },
   "id": "89cc3012597123dd"
  },
  {
   "cell_type": "code",
   "execution_count": 26,
   "outputs": [
    {
     "ename": "TypeError",
     "evalue": "You have to supply one of 'by' and 'level'",
     "output_type": "error",
     "traceback": [
      "\u001B[0;31m---------------------------------------------------------------------------\u001B[0m",
      "\u001B[0;31mTypeError\u001B[0m                                 Traceback (most recent call last)",
      "Cell \u001B[0;32mIn[26], line 1\u001B[0m\n\u001B[0;32m----> 1\u001B[0m clean_df\u001B[38;5;241m.\u001B[39mgroupby()\n",
      "File \u001B[0;32m/Volumes/T7/Conda/anaconda3/lib/python3.11/site-packages/pandas/core/frame.py:8399\u001B[0m, in \u001B[0;36mDataFrame.groupby\u001B[0;34m(self, by, axis, level, as_index, sort, group_keys, squeeze, observed, dropna)\u001B[0m\n\u001B[1;32m   8396\u001B[0m     squeeze \u001B[38;5;241m=\u001B[39m \u001B[38;5;28;01mFalse\u001B[39;00m\n\u001B[1;32m   8398\u001B[0m \u001B[38;5;28;01mif\u001B[39;00m level \u001B[38;5;129;01mis\u001B[39;00m \u001B[38;5;28;01mNone\u001B[39;00m \u001B[38;5;129;01mand\u001B[39;00m by \u001B[38;5;129;01mis\u001B[39;00m \u001B[38;5;28;01mNone\u001B[39;00m:\n\u001B[0;32m-> 8399\u001B[0m     \u001B[38;5;28;01mraise\u001B[39;00m \u001B[38;5;167;01mTypeError\u001B[39;00m(\u001B[38;5;124m\"\u001B[39m\u001B[38;5;124mYou have to supply one of \u001B[39m\u001B[38;5;124m'\u001B[39m\u001B[38;5;124mby\u001B[39m\u001B[38;5;124m'\u001B[39m\u001B[38;5;124m and \u001B[39m\u001B[38;5;124m'\u001B[39m\u001B[38;5;124mlevel\u001B[39m\u001B[38;5;124m'\u001B[39m\u001B[38;5;124m\"\u001B[39m)\n\u001B[1;32m   8400\u001B[0m axis \u001B[38;5;241m=\u001B[39m \u001B[38;5;28mself\u001B[39m\u001B[38;5;241m.\u001B[39m_get_axis_number(axis)\n\u001B[1;32m   8402\u001B[0m \u001B[38;5;28;01mreturn\u001B[39;00m DataFrameGroupBy(\n\u001B[1;32m   8403\u001B[0m     obj\u001B[38;5;241m=\u001B[39m\u001B[38;5;28mself\u001B[39m,\n\u001B[1;32m   8404\u001B[0m     keys\u001B[38;5;241m=\u001B[39mby,\n\u001B[0;32m   (...)\u001B[0m\n\u001B[1;32m   8412\u001B[0m     dropna\u001B[38;5;241m=\u001B[39mdropna,\n\u001B[1;32m   8413\u001B[0m )\n",
      "\u001B[0;31mTypeError\u001B[0m: You have to supply one of 'by' and 'level'"
     ]
    }
   ],
   "source": [
    "clean_df.groupby"
   ],
   "metadata": {
    "collapsed": false,
    "ExecuteTime": {
     "end_time": "2023-08-08T05:16:35.154612Z",
     "start_time": "2023-08-08T05:16:34.567951Z"
    }
   },
   "id": "8444a1348349ebe"
  },
  {
   "cell_type": "code",
   "execution_count": 27,
   "outputs": [
    {
     "data": {
      "text/plain": "          Undergraduate Major  Spread  Starting Median Salary  \\\nGroup                                                           \nBusiness                   12      12                      12   \nHASS                       22      22                      22   \nSTEM                       16      16                      16   \n\n          Mid-Career Median Salary  Mid-Career 10th Percentile Salary  \\\nGroup                                                                   \nBusiness                        12                                 12   \nHASS                            22                                 22   \nSTEM                            16                                 16   \n\n          Mid-Career 90th Percentile Salary  \nGroup                                        \nBusiness                                 12  \nHASS                                     22  \nSTEM                                     16  ",
      "text/html": "<div>\n<style scoped>\n    .dataframe tbody tr th:only-of-type {\n        vertical-align: middle;\n    }\n\n    .dataframe tbody tr th {\n        vertical-align: top;\n    }\n\n    .dataframe thead th {\n        text-align: right;\n    }\n</style>\n<table border=\"1\" class=\"dataframe\">\n  <thead>\n    <tr style=\"text-align: right;\">\n      <th></th>\n      <th>Undergraduate Major</th>\n      <th>Spread</th>\n      <th>Starting Median Salary</th>\n      <th>Mid-Career Median Salary</th>\n      <th>Mid-Career 10th Percentile Salary</th>\n      <th>Mid-Career 90th Percentile Salary</th>\n    </tr>\n    <tr>\n      <th>Group</th>\n      <th></th>\n      <th></th>\n      <th></th>\n      <th></th>\n      <th></th>\n      <th></th>\n    </tr>\n  </thead>\n  <tbody>\n    <tr>\n      <th>Business</th>\n      <td>12</td>\n      <td>12</td>\n      <td>12</td>\n      <td>12</td>\n      <td>12</td>\n      <td>12</td>\n    </tr>\n    <tr>\n      <th>HASS</th>\n      <td>22</td>\n      <td>22</td>\n      <td>22</td>\n      <td>22</td>\n      <td>22</td>\n      <td>22</td>\n    </tr>\n    <tr>\n      <th>STEM</th>\n      <td>16</td>\n      <td>16</td>\n      <td>16</td>\n      <td>16</td>\n      <td>16</td>\n      <td>16</td>\n    </tr>\n  </tbody>\n</table>\n</div>"
     },
     "execution_count": 27,
     "metadata": {},
     "output_type": "execute_result"
    }
   ],
   "source": [
    "clean_df.groupby(\"Group\").count()"
   ],
   "metadata": {
    "collapsed": false,
    "ExecuteTime": {
     "end_time": "2023-08-08T05:18:24.823701Z",
     "start_time": "2023-08-08T05:18:24.805584Z"
    }
   },
   "id": "5ceb27ce25d0865d"
  },
  {
   "cell_type": "code",
   "execution_count": 28,
   "outputs": [
    {
     "name": "stderr",
     "output_type": "stream",
     "text": [
      "/var/folders/_j/5p48krrn6lx6tnvsyf6p97280000gn/T/ipykernel_92721/2423149825.py:1: FutureWarning: The default value of numeric_only in DataFrameGroupBy.mean is deprecated. In a future version, numeric_only will default to False. Either specify numeric_only or select only columns which should be valid for the function.\n",
      "  clean_df.groupby(\"Group\").mean()\n"
     ]
    },
    {
     "data": {
      "text/plain": "                 Spread  Starting Median Salary  Mid-Career Median Salary  \\\nGroup                                                                       \nBusiness  103958.333333            44633.333333              75083.333333   \nHASS       95218.181818            37186.363636              62968.181818   \nSTEM      101600.000000            53862.500000              90812.500000   \n\n          Mid-Career 10th Percentile Salary  Mid-Career 90th Percentile Salary  \nGroup                                                                           \nBusiness                       43566.666667                      147525.000000  \nHASS                           34145.454545                      129363.636364  \nSTEM                           56025.000000                      157625.000000  ",
      "text/html": "<div>\n<style scoped>\n    .dataframe tbody tr th:only-of-type {\n        vertical-align: middle;\n    }\n\n    .dataframe tbody tr th {\n        vertical-align: top;\n    }\n\n    .dataframe thead th {\n        text-align: right;\n    }\n</style>\n<table border=\"1\" class=\"dataframe\">\n  <thead>\n    <tr style=\"text-align: right;\">\n      <th></th>\n      <th>Spread</th>\n      <th>Starting Median Salary</th>\n      <th>Mid-Career Median Salary</th>\n      <th>Mid-Career 10th Percentile Salary</th>\n      <th>Mid-Career 90th Percentile Salary</th>\n    </tr>\n    <tr>\n      <th>Group</th>\n      <th></th>\n      <th></th>\n      <th></th>\n      <th></th>\n      <th></th>\n    </tr>\n  </thead>\n  <tbody>\n    <tr>\n      <th>Business</th>\n      <td>103958.333333</td>\n      <td>44633.333333</td>\n      <td>75083.333333</td>\n      <td>43566.666667</td>\n      <td>147525.000000</td>\n    </tr>\n    <tr>\n      <th>HASS</th>\n      <td>95218.181818</td>\n      <td>37186.363636</td>\n      <td>62968.181818</td>\n      <td>34145.454545</td>\n      <td>129363.636364</td>\n    </tr>\n    <tr>\n      <th>STEM</th>\n      <td>101600.000000</td>\n      <td>53862.500000</td>\n      <td>90812.500000</td>\n      <td>56025.000000</td>\n      <td>157625.000000</td>\n    </tr>\n  </tbody>\n</table>\n</div>"
     },
     "execution_count": 28,
     "metadata": {},
     "output_type": "execute_result"
    }
   ],
   "source": [
    "clean_df.groupby(\"Group\").mean()"
   ],
   "metadata": {
    "collapsed": false,
    "ExecuteTime": {
     "end_time": "2023-08-08T05:19:01.823353Z",
     "start_time": "2023-08-08T05:19:01.804244Z"
    }
   },
   "id": "d35c5339eee81e3b"
  },
  {
   "cell_type": "code",
   "execution_count": 29,
   "outputs": [
    {
     "ename": "IndexError",
     "evalue": "Replacement index 0 out of range for positional args tuple",
     "output_type": "error",
     "traceback": [
      "\u001B[0;31m---------------------------------------------------------------------------\u001B[0m",
      "\u001B[0;31mIndexError\u001B[0m                                Traceback (most recent call last)",
      "Cell \u001B[0;32mIn[29], line 1\u001B[0m\n\u001B[0;32m----> 1\u001B[0m pd\u001B[38;5;241m.\u001B[39moptions\u001B[38;5;241m.\u001B[39mdisplay\u001B[38;5;241m.\u001B[39mfloat_format \u001B[38;5;241m=\u001B[39m \u001B[38;5;124m'\u001B[39m\u001B[38;5;132;01m{:,.2f}\u001B[39;00m\u001B[38;5;124m'\u001B[39m\u001B[38;5;241m.\u001B[39mformat()\n",
      "\u001B[0;31mIndexError\u001B[0m: Replacement index 0 out of range for positional args tuple"
     ]
    }
   ],
   "source": [
    "pd.options.display.float_format = '{:,.2f}'.format()"
   ],
   "metadata": {
    "collapsed": false,
    "ExecuteTime": {
     "end_time": "2023-08-08T05:21:03.883720Z",
     "start_time": "2023-08-08T05:21:03.813649Z"
    }
   },
   "id": "2a47656125954e8c"
  },
  {
   "cell_type": "code",
   "execution_count": 30,
   "outputs": [],
   "source": [
    "pd.options.display.float_format = \"{:,.2f}\".format"
   ],
   "metadata": {
    "collapsed": false,
    "ExecuteTime": {
     "end_time": "2023-08-08T05:22:51.874765Z",
     "start_time": "2023-08-08T05:22:51.867735Z"
    }
   },
   "id": "1d75ff35cab5d64b"
  },
  {
   "cell_type": "code",
   "execution_count": 31,
   "outputs": [
    {
     "data": {
      "text/plain": "<function str.format>"
     },
     "execution_count": 31,
     "metadata": {},
     "output_type": "execute_result"
    }
   ],
   "source": [
    "pd.options.display.float_format"
   ],
   "metadata": {
    "collapsed": false,
    "ExecuteTime": {
     "end_time": "2023-08-08T05:23:12.832999Z",
     "start_time": "2023-08-08T05:23:12.809570Z"
    }
   },
   "id": "1c3e5edca1743ce6"
  },
  {
   "cell_type": "code",
   "execution_count": 32,
   "outputs": [
    {
     "name": "stdout",
     "output_type": "stream",
     "text": [
      "<built-in method format of str object at 0x160db8570>\n"
     ]
    }
   ],
   "source": [
    "print(pd.options.display.float_format)"
   ],
   "metadata": {
    "collapsed": false,
    "ExecuteTime": {
     "end_time": "2023-08-08T05:23:27.689961Z",
     "start_time": "2023-08-08T05:23:27.667055Z"
    }
   },
   "id": "34f0f0e192a057f5"
  },
  {
   "cell_type": "code",
   "execution_count": 33,
   "outputs": [],
   "source": [
    "formatted_df = pd.options.display.float_format = \"{:,.2f}\".format"
   ],
   "metadata": {
    "collapsed": false,
    "ExecuteTime": {
     "end_time": "2023-08-08T05:24:08.400269Z",
     "start_time": "2023-08-08T05:24:08.375099Z"
    }
   },
   "id": "b73db44ee32633dd"
  },
  {
   "cell_type": "code",
   "execution_count": 34,
   "outputs": [
    {
     "data": {
      "text/plain": "<function str.format>"
     },
     "execution_count": 34,
     "metadata": {},
     "output_type": "execute_result"
    }
   ],
   "source": [
    "formatted_df"
   ],
   "metadata": {
    "collapsed": false,
    "ExecuteTime": {
     "end_time": "2023-08-08T05:24:11.794022Z",
     "start_time": "2023-08-08T05:24:11.766134Z"
    }
   },
   "id": "c29984f6afdc5497"
  },
  {
   "cell_type": "code",
   "execution_count": 35,
   "outputs": [
    {
     "name": "stderr",
     "output_type": "stream",
     "text": [
      "/var/folders/_j/5p48krrn6lx6tnvsyf6p97280000gn/T/ipykernel_92721/2423149825.py:1: FutureWarning: The default value of numeric_only in DataFrameGroupBy.mean is deprecated. In a future version, numeric_only will default to False. Either specify numeric_only or select only columns which should be valid for the function.\n",
      "  clean_df.groupby(\"Group\").mean()\n"
     ]
    },
    {
     "data": {
      "text/plain": "             Spread  Starting Median Salary  Mid-Career Median Salary  \\\nGroup                                                                   \nBusiness 103,958.33               44,633.33                 75,083.33   \nHASS      95,218.18               37,186.36                 62,968.18   \nSTEM     101,600.00               53,862.50                 90,812.50   \n\n          Mid-Career 10th Percentile Salary  Mid-Career 90th Percentile Salary  \nGroup                                                                           \nBusiness                          43,566.67                         147,525.00  \nHASS                              34,145.45                         129,363.64  \nSTEM                              56,025.00                         157,625.00  ",
      "text/html": "<div>\n<style scoped>\n    .dataframe tbody tr th:only-of-type {\n        vertical-align: middle;\n    }\n\n    .dataframe tbody tr th {\n        vertical-align: top;\n    }\n\n    .dataframe thead th {\n        text-align: right;\n    }\n</style>\n<table border=\"1\" class=\"dataframe\">\n  <thead>\n    <tr style=\"text-align: right;\">\n      <th></th>\n      <th>Spread</th>\n      <th>Starting Median Salary</th>\n      <th>Mid-Career Median Salary</th>\n      <th>Mid-Career 10th Percentile Salary</th>\n      <th>Mid-Career 90th Percentile Salary</th>\n    </tr>\n    <tr>\n      <th>Group</th>\n      <th></th>\n      <th></th>\n      <th></th>\n      <th></th>\n      <th></th>\n    </tr>\n  </thead>\n  <tbody>\n    <tr>\n      <th>Business</th>\n      <td>103,958.33</td>\n      <td>44,633.33</td>\n      <td>75,083.33</td>\n      <td>43,566.67</td>\n      <td>147,525.00</td>\n    </tr>\n    <tr>\n      <th>HASS</th>\n      <td>95,218.18</td>\n      <td>37,186.36</td>\n      <td>62,968.18</td>\n      <td>34,145.45</td>\n      <td>129,363.64</td>\n    </tr>\n    <tr>\n      <th>STEM</th>\n      <td>101,600.00</td>\n      <td>53,862.50</td>\n      <td>90,812.50</td>\n      <td>56,025.00</td>\n      <td>157,625.00</td>\n    </tr>\n  </tbody>\n</table>\n</div>"
     },
     "execution_count": 35,
     "metadata": {},
     "output_type": "execute_result"
    }
   ],
   "source": [
    "clean_df.groupby(\"Group\").mean()"
   ],
   "metadata": {
    "collapsed": false,
    "ExecuteTime": {
     "end_time": "2023-08-08T05:24:45.440156Z",
     "start_time": "2023-08-08T05:24:45.415271Z"
    }
   },
   "id": "17eb7f5c76a600bf"
  },
  {
   "cell_type": "code",
   "execution_count": null,
   "outputs": [],
   "source": [],
   "metadata": {
    "collapsed": false
   },
   "id": "50d8748484dee92"
  }
 ],
 "metadata": {
  "kernelspec": {
   "display_name": "Python 3",
   "language": "python",
   "name": "python3"
  },
  "language_info": {
   "codemirror_mode": {
    "name": "ipython",
    "version": 2
   },
   "file_extension": ".py",
   "mimetype": "text/x-python",
   "name": "python",
   "nbconvert_exporter": "python",
   "pygments_lexer": "ipython2",
   "version": "2.7.6"
  }
 },
 "nbformat": 4,
 "nbformat_minor": 5
}
